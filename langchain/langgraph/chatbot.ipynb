{
 "cells": [
  {
   "cell_type": "markdown",
   "id": "ea75a444",
   "metadata": {},
   "source": [
    "# LangGraph ChatBot 开发指南\n",
    "\n",
    "LangGraph 是一个灵活的 Agent 开发框架，可以帮助您设计复杂的对话工作流和智能代理。\n",
    "\n",
    "本指南将指导您如何使用 LangGraph 构建一个支持**多轮对话的智能客服（聊天机器人）**。\n",
    "\n",
    "我们将从一个基础的聊天机器人开始，逐步添加更多高级功能，并介绍关键的 LangGraph 概念。\n",
    "\n",
    "通过以下几个部分的学习，您将掌握如何逐步构建、增强和管理该聊天机器人。\n",
    "\n",
    "1. **构建Chatbot**： 基于 GPT-4o-mini 构建基础聊天机器人\n",
    "2. **联网查询工具**：为聊天机器人添加工具（结合网络搜索回答问题）\n",
    "3. **增加记忆系统**：在多次调用中保持对话状态\n",
    "4. **人工介入对话**：将复杂查询路由给人工审查或手动更新内容\n",
    "5. **查询历史对话**：通过状态图状态和配置查看/打印历史对话\n",
    "----------\n",
    "\n"
   ]
  },
  {
   "cell_type": "markdown",
   "id": "771ff467-f475-4461-b1c1-3678fbf64298",
   "metadata": {},
   "source": [
    "## LangGraph 核心对象介绍\n",
    "\n",
    "#### **StateGraph 对象**\n",
    "\n",
    "`StateGraph` 是 LangGraph 中的核心概念之一，它定义了聊天机器人或其他任务处理流程的结构。它是一种状态机，通过节点（nodes）和边（edges）来表示系统的状态变化。以下是 `StateGraph` 的关键点：\n",
    "\n",
    "- **定义流程图**：`StateGraph` 是用来创建流程图的对象，图中的每个节点代表一个任务或计算步骤（如调用 LLM、工具或函数），每个边（edge）定义了从一个节点到下一个节点的流向。\n",
    "  \n",
    "- **状态管理**：`StateGraph` 通过状态（`State`）来管理流程中的数据和上下文。每个节点都会接收当前的状态，并且返回一个更新后的状态。这种机制保证了在多轮对话或任务中，机器人能够持续维护上下文信息。\n",
    "\n",
    "- **消息更新**：在 `StateGraph` 中，我们可以定义如何更新状态，例如使用 `add_messages` 函数，表示将消息追加到已有的消息列表，而不是覆盖旧消息。\n",
    "\n",
    "#### StateGraph 的使用步骤\n",
    "1. **定义 State**：首先需要定义状态（`State`），例如用字典来存储消息、工具调用的结果等内容。\n",
    "2. **添加节点**：每个节点表示一个任务单元，可以是任意的 Python 函数。\n",
    "3. **添加边**：通过 `add_edge()` 方法指定节点之间的流向，例如从聊天节点到工具节点，再到结束节点。\n",
    "4. **编译图**：通过 `compile()` 方法将流程图编译为可执行的 `CompiledGraph`。\n",
    "\n",
    "-----------\n",
    "\n",
    "#### **CompiledGraph 对象**\n",
    "\n",
    "`CompiledGraph` 是由 `StateGraph` 编译得到的实际可执行对象。它负责执行在 `StateGraph` 中定义的流程，并处理每个节点的任务。`CompiledGraph` 通过状态的流动来管理整个对话或任务的执行。以下是 `CompiledGraph` 的关键点：\n",
    "\n",
    "- **流程执行**：`CompiledGraph` 是 `StateGraph` 的实际运行版本。当你调用 `stream()` 或 `invoke()` 方法时，它会依次执行图中的节点，并根据每个节点的输出状态决定下一个节点的执行。\n",
    "\n",
    "- **状态检查点（Checkpointing）**：通过使用检查点机制，`CompiledGraph` 可以在每个节点执行完后保存当前的状态，允许任务暂停并在之后恢复。例如，您可以为机器人添加记忆功能或支持“时间旅行”（回到之前的某个状态点）。\n",
    "\n",
    "- **动态路由**：`CompiledGraph` 还支持动态路由（Conditional Edges），允许根据当前状态动态决定下一步执行的节点。这使得机器人可以根据上下文或工具的输出灵活地调整行为。\n",
    "\n",
    "------------\n",
    "\n",
    "#### 关系总结\n",
    "\n",
    "- `StateGraph` 用于定义和构建一个聊天机器人或任务处理流程的结构，通过节点和边来管理流程和状态的流动。\n",
    "- `CompiledGraph` 是 `StateGraph` 编译后的版本，负责实际的流程执行、状态管理和检查点保存。\n",
    "\n",
    "它们结合在一起，提供了一个灵活、可扩展的方式来构建复杂的多步骤对话机器人或任务执行系统。\n",
    "\n",
    "------------"
   ]
  },
  {
   "cell_type": "markdown",
   "id": "bfa6d74b-5d3c-44c3-b6b6-794f82f366b8",
   "metadata": {},
   "source": [
    "## LangGraph 核心方法介绍\n",
    "\n",
    "`graph.stream` 是 LangGraph 中的一个核心方法，用于执行编译后的状态图（`CompiledGraph`）并以流式（streaming）的方式处理每个节点。通过 `stream` 方法，系统可以逐步执行对话或任务的每个步骤，并在每一步中返回中间结果。这种方式特别适用于长时间任务、逐步处理的工具调用或连续的对话。\n",
    "\n",
    "### `graph.stream` 的核心功能\n",
    "\n",
    "1. **流式执行**：\n",
    "   - `graph.stream` 允许您在每个节点执行时获得结果，类似于生成器的工作方式。在对话或任务流程中，机器人每经过一个节点（如调用工具、获取外部数据、与用户对话），都会返回该节点的执行结果。这使得系统可以逐步处理复杂的任务或多轮对话，而不是一次性等待所有步骤完成。\n",
    "\n",
    "2. **中间状态反馈**：\n",
    "   - 使用 `stream` 方法时，开发者可以在每一步获得当前的中间状态（如对话消息、工具调用的结果）。这对于调试、错误处理和用户实时反馈非常有帮助。\n",
    "   - 比如，在对话中，系统可以在用户输入每一条消息后逐步处理，逐步生成回答，而不是一次性返回最终结果。\n",
    "\n",
    "3. **支持多轮对话**：\n",
    "   - 通过 `stream`，可以让机器人保持对话的状态，使其能够处理复杂的多轮对话。系统在每一步都会保存对话的上下文，并在接收到新消息时恢复对话的状态，继续处理。\n",
    "\n",
    "4. **支持工具调用和多节点执行**：\n",
    "   - `stream` 方法不仅支持对话，还可以用于工具调用等任务。在每个工具节点执行时，系统会返回工具的执行结果，允许您对每个步骤的输出进行检查或处理。\n",
    "   - 它特别适合那些需要多个步骤或节点共同执行的任务，保证每个节点依次运行。\n",
    "\n",
    "---\n",
    "\n",
    "### 典型用法（涵盖1-3部分的重要功能）\n",
    "\n",
    "#### 1. 执行对话\n",
    "\n",
    "```python\n",
    "config = {\"configurable\": {\"thread_id\": \"1\"}}\n",
    "user_input = \"Hi, can you tell me today's weather?\"\n",
    "\n",
    "# 使用 stream 方法来执行对话\n",
    "events = graph.stream(\n",
    "    {\"messages\": [(\"user\", user_input)]},  # 传入用户的输入消息\n",
    "    config,  # 对话线程配置，用于标识对话的唯一 ID\n",
    "    stream_mode=\"values\"  # 以流式返回数据\n",
    ")\n",
    "\n",
    "# 遍历每个事件，并输出机器人生成的消息\n",
    "for event in events:\n",
    "    print(event[\"messages\"][-1].content)  # 打印最后一条消息的内容\n",
    "```\n",
    "\n",
    "在这个示例中，`graph.stream` 逐步处理用户的输入，并返回每个步骤的结果。由于使用了 `stream_mode=\"values\"`，系统以流式返回对话的中间结果。\n",
    "\n",
    "#### 2. 执行工具调用\n",
    "\n",
    "```python\n",
    "user_input = \"Please search for the latest news about AI.\"\n",
    "config = {\"configurable\": {\"thread_id\": \"2\"}}\n",
    "\n",
    "# 使用 stream 方法来执行带有工具调用的任务\n",
    "events = graph.stream(\n",
    "    {\"messages\": [(\"user\", user_input)]},  # 用户输入的消息\n",
    "    config,\n",
    "    stream_mode=\"values\"\n",
    ")\n",
    "\n",
    "# 遍历事件，获取工具的调用结果\n",
    "for event in events:\n",
    "    if \"messages\" in event:\n",
    "        # 打印工具的调用结果或机器人回复\n",
    "        print(event[\"messages\"][-1].content)\n",
    "```\n",
    "\n",
    "这个示例展示了如何通过 `graph.stream` 执行包含工具调用的任务。每个工具的调用结果都会在事件中返回，并且可以即时处理和反馈。\n",
    "\n",
    "---\n",
    "\n",
    "### `graph.stream` 的参数\n",
    "\n",
    "- **`inputs`**：输入的字典数据，通常包含对话的消息（如 `{\"messages\": [(\"user\", user_input)]}`），表示用户输入了什么信息。`inputs` 是机器人任务的初始数据。\n",
    "- **`config`**：配置参数，用于指定对话线程 ID、流执行模式等选项。它允许为每个对话或任务指定唯一的标识符，以便系统可以跟踪对话的上下文或任务状态。\n",
    "- **`stream_mode`**：指定返回数据的模式。常见的取值是 `\"values\"`，表示返回处理结果的流式数据。其他模式也可以根据具体需求进行调整。\n",
    "\n",
    "---\n",
    "\n",
    "### 适用场景\n",
    "\n",
    "1. **多轮对话机器人**：在复杂的对话场景中，用户可能与机器人进行多轮对话，并且希望机器人能够持续记住对话上下文。`graph.stream` 允许在每一轮对话中返回中间结果，并保持对话的流畅性和连贯性。\n",
    "  \n",
    "2. **逐步执行复杂任务**：例如，机器人在执行需要多个步骤的任务时，可以通过 `stream` 方法在每个步骤执行完后返回结果，而不是一次性执行整个任务。这种逐步处理的机制可以确保任务的每一步都被正确执行，并且可以随时处理异常情况。\n",
    "\n",
    "3. **实时反馈**：在实时应用中，用户希望能够尽快获得机器人的反馈。通过 `graph.stream`，系统可以在每个步骤中即时返回处理结果，让用户感受到流畅的交互体验。\n",
    "\n",
    "---\n",
    "\n",
    "### 总结\n",
    "\n",
    "`graph.stream` 是一个强大的工具，用于以流式处理对话和任务的每个步骤。它特别适合那些需要逐步执行和处理的任务场景，如多轮对话、复杂的工具调用或任务处理。通过 `stream`，系统可以在每一步中即时返回结果，并保持任务或对话的上下文信息。\n",
    "\n",
    "-----"
   ]
  },
  {
   "cell_type": "markdown",
   "id": "77f3f01c-21f0-47be-a32b-3895f46f1b65",
   "metadata": {},
   "source": [
    "## 第 1 部分：构建基础聊天机器人\n",
    "\n",
    "我们将首先使用 LangGraph 创建一个简单的聊天机器人。该机器人将直接响应用户消息。虽然简单，但它将展示 LangGraph 构建的核心概念。在本部分结束时，您将构建一个基础的聊天机器人。\n",
    "\n",
    "### 1. 安装依赖包\n",
    "\n",
    "首先，安装所需的软件包："
   ]
  },
  {
   "cell_type": "code",
   "execution_count": 1,
   "id": "bcd46847",
   "metadata": {},
   "outputs": [],
   "source": [
    "%%capture --no-stderr\n",
    "# 安装 LangGraph 和 LangSmith，用于状态图和跟踪\n",
    "%pip install -U langgraph langsmith"
   ]
  },
  {
   "cell_type": "markdown",
   "id": "e9cb2298",
   "metadata": {},
   "source": [
    "### 2. 设置 LangSmith API 密钥"
   ]
  },
  {
   "cell_type": "code",
   "execution_count": 1,
   "id": "d9db1b1d",
   "metadata": {},
   "outputs": [],
   "source": [
    "import os\n",
    "\n",
    "# 开启 LangSmith 跟踪，便于调试和查看详细执行信息\n",
    "# 需要将 LANGCHAIN_API_KEY 设置到环境变量中\n",
    "os.environ[\"LANGCHAIN_TRACING_V2\"] = \"true\"\n",
    "os.environ[\"LANGCHAIN_PROJECT\"] = \"ChatBot\"\n",
    "\n",
    "# 从环境变量中获取阿里云百练的 API Key\n",
    "DASHSCOPE_API_KEY = os.getenv(\"DASHSCOPE_API_KEY\")\n",
    "# 阿里云百练的官网地址\n",
    "DASHSCOPE_API_BASE_URL = \"https://dashscope.aliyuncs.com/compatible-mode/v1\""
   ]
  },
  {
   "cell_type": "markdown",
   "id": "eeb060c3",
   "metadata": {},
   "source": [
    "### 3. 定义聊天机器人的状态图 `StateGraph`\n",
    "\n",
    "我们将添加节点以表示聊天机器人的逻辑和功能，并添加边来指定如何在功能之间进行转换。\n",
    "\n",
    "#### 代码解析\n",
    "\n",
    "当定义一个状态图时，首先要定义图的状态 `State`。`State` 包含图的状态结构以及 reducer 函数，它们指定如何应用状态更新。\n",
    "\n",
    "在本例中，`State` 是一个带有单一键 `messages` 的 `TypedDict`，该键使用 `add_messages` 函数作为注解，告诉 LangGraph 应该将新消息追加到现有消息列表中，而不是覆盖它。\n",
    "\n",
    "没有注解的状态键将被覆盖，存储最新的值。"
   ]
  },
  {
   "cell_type": "code",
   "execution_count": 2,
   "id": "a959d214",
   "metadata": {},
   "outputs": [],
   "source": [
    "from typing import Annotated\n",
    "from typing_extensions import TypedDict\n",
    "from langgraph.graph import StateGraph, START, END\n",
    "from langgraph.graph.message import add_messages\n",
    "\n",
    "# 定义状态类型，继承自 TypedDict，并使用 add_messages 函数将消息追加到现有列表\n",
    "class State(TypedDict):\n",
    "    messages: Annotated[list, add_messages]\n",
    "\n",
    "# 创建一个状态图对象，传入状态定义\n",
    "graph_builder = StateGraph(State)"
   ]
  },
  {
   "cell_type": "markdown",
   "id": "c4950d16",
   "metadata": {},
   "source": [
    "现在，状态图知道了两件事：\n",
    "\n",
    "1. 每个我们定义的节点都会接收当前的 `State` 作为输入，并返回一个更新该状态的值。\n",
    "2. `messages` 将追加到当前列表中，而不是直接覆盖。这通过 `Annotated` 语法中的预构建 `add_messages` 函数传达。\n",
    "\n",
    "### 4. 添加聊天节点\n",
    "\n",
    "节点表示一个计算单元。它们通常是常规的 Python 函数。\n",
    "\n",
    "**代码解析：**\n",
    "\n",
    "聊天机器人节点函数（`chatbot`）接收当前的 `State` 作为输入，并返回一个包含更新后的 `messages` 列表的字典。这是所有 LangGraph 节点函数的基础模式。\n",
    "\n",
    "在 `State` 中的 `add_messages` 函数会将 LLM 的响应消息追加到现有的消息列表中。"
   ]
  },
  {
   "cell_type": "code",
   "execution_count": 3,
   "id": "1f1607f3",
   "metadata": {},
   "outputs": [
    {
     "data": {
      "text/plain": [
       "<langgraph.graph.state.StateGraph at 0x7f5918df0550>"
      ]
     },
     "execution_count": 3,
     "metadata": {},
     "output_type": "execute_result"
    }
   ],
   "source": [
    "from langchain_community.chat_models import ChatTongyi\n",
    "\n",
    "chat_model = ChatTongyi(model=\"qwen-max\")\n",
    "\n",
    "# 定义聊天机器人的节点函数，接收当前状态并返回更新的消息列表\n",
    "def chatbot(state: State):\n",
    "    return {\"messages\": [chat_model.invoke(state[\"messages\"])]}\n",
    "\n",
    "# 第一个参数是唯一的节点名称，第二个参数是每次节点被调用时的函数或对象\n",
    "graph_builder.add_node(\"chatbot\", chatbot)"
   ]
  },
  {
   "cell_type": "markdown",
   "id": "b1ba47db",
   "metadata": {},
   "source": [
    "### 5. 定义聊天机器人对话流程（状态图的起终点）\n",
    "\n",
    "- **起点（START）**：每次运行时，从哪里开始工作。\n",
    "- **终点（END）**：每次运行此节点时，程序可以退出。"
   ]
  },
  {
   "cell_type": "code",
   "execution_count": 4,
   "id": "7f06c7de",
   "metadata": {},
   "outputs": [
    {
     "data": {
      "text/plain": [
       "<langgraph.graph.state.StateGraph at 0x7f5918df0550>"
      ]
     },
     "execution_count": 4,
     "metadata": {},
     "output_type": "execute_result"
    }
   ],
   "source": [
    "graph_builder.add_edge(START, \"chatbot\")\n",
    "graph_builder.add_edge(\"chatbot\", END)"
   ]
  },
  {
   "cell_type": "markdown",
   "id": "848f8d09",
   "metadata": {},
   "source": [
    "### 6. 编译图并可视化\n",
    "\n",
    "最后，我们需要能够运行我们的状态图。\n",
    "\n",
    "在图构建器上调用 `compile()`，这会创建一个可执行的 `CompiledGraph`对象。\n",
    "\n",
    "我们可以使用该图(`CompiledGraph`)来调用聊天机器人。"
   ]
  },
  {
   "cell_type": "code",
   "execution_count": 5,
   "id": "9ff06359",
   "metadata": {},
   "outputs": [
    {
     "data": {
      "image/png": "[encoded data removed]",
      "text/plain": [
       "<IPython.core.display.Image object>"
      ]
     },
     "metadata": {},
     "output_type": "display_data"
    }
   ],
   "source": [
    "# 编译状态图并生成可执行图对象\n",
    "graph = graph_builder.compile()\n",
    "\n",
    "# 你可以使用 get_graph 方法来可视化图，并结合 draw 方法（如 draw_ascii 或 draw_png）\n",
    "from IPython.display import Image, display\n",
    "\n",
    "try:\n",
    "    display(Image(graph.get_graph().draw_mermaid_png()))\n",
    "except Exception:\n",
    "    pass"
   ]
  },
  {
   "cell_type": "markdown",
   "id": "7e7be101",
   "metadata": {},
   "source": [
    "### 7. 运行图\n",
    "\n",
    "**恭喜！您已经使用 LangGraph 构建了第一个聊天机器人。这个机器人可以通过接受用户输入并生成 LLM 回复来进行基本对话。**\n",
    "\n",
    "现在运行聊天机器人！\n",
    "\n",
    "#### 代码解析\n",
    "\n",
    "1. **聊天循环**：\n",
    "   - `while True:` 启动一个持续的聊天循环，用户可以不断输入问题或命令与聊天机器人互动。\n",
    "\n",
    "2. **获取用户输入**：\n",
    "   - 使用 `input(\"User: \")` 来获取用户的输入消息，并将其赋值给 `user_input` 变量。\n",
    "\n",
    "3. **退出条件**：\n",
    "   - 如果用户输入 `\"quit\"`、`\"exit\"` 或 `\"q\"`，系统会通过 `break` 语句退出聊天循环，结束程序运行。\n",
    "\n",
    "4. **将用户消息传递给聊天机器人**：\n",
    "   - 通过调用 `graph.stream({\"messages\": (\"user\", user_input)})`，将用户的输入传递给聊天机器人模型。`graph.stream` 方法会根据输入的消息生成相应的回复。\n",
    "   - 这里 `\"messages\": (\"user\", user_input)` 表示传递的是用户的输入消息。\n",
    "\n",
    "5. **处理机器人的回复**：\n",
    "   - 遍历 `event.values()` 中的每个值，从机器人生成的回复中提取最后一条消息，并使用 `print(\"Assistant:\", value[\"messages\"][-1].content)` 打印输出聊天机器人的回复内容。\n",
    "\n",
    "该代码是一个简单的聊天机器人框架，用户可以在命令行中输入问题，机器人会根据用户的输入实时生成回复。如果用户输入退出指令，程序会结束对话循环。"
   ]
  },
  {
   "cell_type": "code",
   "execution_count": 7,
   "id": "12e6c741",
   "metadata": {
    "scrolled": true
   },
   "outputs": [
    {
     "name": "stdin",
     "output_type": "stream",
     "text": [
      "User:  雅鲁藏布江水电工程什么时候开工？\n"
     ]
    },
    {
     "name": "stdout",
     "output_type": "stream",
     "text": [
      "Assistant: 关于雅鲁藏布江水电工程的具体开工时间，目前没有确切的官方消息。雅鲁藏布江流域规划有多个梯级水电站项目，但这些项目的具体实施时间表会受到多种因素的影响，包括但不限于环境评估、技术准备以及政策审批等。对于此类大型基础设施建设项目，通常需要经过详细的规划和论证阶段。如果您关注这一领域的最新进展，建议关注中国政府相关部门或权威媒体发布的最新公告和报道。\n"
     ]
    },
    {
     "name": "stdin",
     "output_type": "stream",
     "text": [
      "User:  q\n"
     ]
    },
    {
     "name": "stdout",
     "output_type": "stream",
     "text": [
      "Goodbye!\n"
     ]
    }
   ],
   "source": [
    "# 开始一个简单的聊天循环\n",
    "while True:\n",
    "    # 获取用户输入\n",
    "    user_input = input(\"User: \")\n",
    "    \n",
    "    # 可以随时通过输入 \"quit\"、\"exit\" 或 \"q\" 退出聊天循环\n",
    "    if user_input.lower() in [\"quit\", \"exit\", \"q\"]:\n",
    "        print(\"Goodbye!\")  # 打印告别信息\n",
    "        break  # 结束循环，退出聊天\n",
    "\n",
    "    # 将每次用户输入的内容传递给 graph.stream，用于聊天机器人状态处理\n",
    "    # \"messages\": (\"user\", user_input) 表示传递的消息是用户输入的内容\n",
    "    for event in graph.stream({\"messages\": (\"user\", user_input)}):\n",
    "        \n",
    "        # 遍历每个事件的值\n",
    "        for value in event.values():\n",
    "            # 打印输出 chatbot 生成的最新消息\n",
    "            print(\"Assistant:\", value[\"messages\"][-1].content)"
   ]
  },
  {
   "cell_type": "markdown",
   "id": "497df061",
   "metadata": {},
   "source": [
    "--------------\n",
    "#### 运行结果分析\n",
    "\n",
    "问：详细介绍下 LangGraph 项目\n",
    "\n",
    "gpt-4o-mini 训练数据截止日期，在 LangGraph 项目推出前。\n",
    "\n",
    "因此，直接让模型生成 LangGraph 相关介绍时，会出现事实性的问题。\n",
    "\n",
    "\n",
    "问题：雅鲁藏布江水电工程什么时候开工？\n",
    "\n"
   ]
  },
  {
   "cell_type": "markdown",
   "id": "a64039fb",
   "metadata": {},
   "source": [
    "## 第 2 部分：为聊天机器人添加工具\n",
    "\n",
    "为了处理我们聊天机器人无法“记住”回答的问题，我们将集成一个 Web 搜索工具 [Tavily Search](\n",
    "https://python.langchain.com/v0.2/docs/integrations/tools/tavily_search/)。\n",
    "\n",
    "我们的机器人可以使用这个工具找到相关信息，并提供更好的回复。\n",
    "\n",
    "### 1. 安装依赖并设置 Tavily API\n",
    "\n",
    "访问 [Tavily](https://tavily.com/) 官网，注册账号并生成你的 `TAVILY_API_KEY`。\n",
    "\n",
    "Tavily 提供 1000次/月的免费检索额度。\n",
    "\n",
    "在开始之前，确保您已安装 Tavily 搜索引擎所需的包并在环境变量中设置了 `TAVILY_API_KEY`。"
   ]
  },
  {
   "cell_type": "code",
   "execution_count": 9,
   "id": "9fe20f5f",
   "metadata": {},
   "outputs": [],
   "source": [
    "%%capture --no-stderr\n",
    "# 安装 Tavily 搜索引擎的 Python 包\n",
    "%pip install -U tavily-python\n",
    "%pip install -U langchain_community"
   ]
  },
  {
   "cell_type": "code",
   "execution_count": 3,
   "id": "fb1758a2-7208-4aa4-8c60-4ec2e57b1783",
   "metadata": {},
   "outputs": [],
   "source": [
    "import getpass\n",
    "import os\n",
    "\n",
    "if not os.environ.get(\"TAVILY_API_KEY\"):\n",
    "    os.environ[\"TAVILY_API_KEY\"] = getpass.getpass(\"Tavily API key:\\n\")"
   ]
  },
  {
   "cell_type": "markdown",
   "id": "4448a461",
   "metadata": {},
   "source": [
    "### 2. 定义工具"
   ]
  },
  {
   "cell_type": "code",
   "execution_count": 6,
   "id": "5ec05131",
   "metadata": {},
   "outputs": [
    {
     "data": {
      "text/plain": [
       "[{'title': \"Introduction to LangGraph: A Beginner's Guide - Medium\",\n",
       "  'url': 'https://medium.com/@cplog/introduction-to-langgraph-a-beginners-guide-14f9be027141',\n",
       "  'content': 'Stateful Graph: LangGraph revolves around the concept of a stateful graph, where each node in the graph represents a step in your computation, and the graph maintains a state that is passed around and updated as the computation progresses.\\n   Nodes: Nodes are the building blocks of your LangGraph. Each node represents a function or a computation step. You define nodes to perform specific tasks, such as processing input, making decisions, or interacting with external APIs.',\n",
       "  'score': 0.86954874}]"
      ]
     },
     "execution_count": 6,
     "metadata": {},
     "output_type": "execute_result"
    }
   ],
   "source": [
    "from langchain_community.tools.tavily_search import TavilySearchResults\n",
    "\n",
    "# 定义 Tavily 搜索工具，最大搜索结果数设置为 1\n",
    "tool = TavilySearchResults(max_results=1)\n",
    "tools = [tool]\n",
    "\n",
    "# 测试工具调用\n",
    "tool.invoke(\"What's a 'node' in LangGraph?\")"
   ]
  },
  {
   "cell_type": "code",
   "execution_count": 7,
   "id": "045e34fb-cdc2-4c62-8863-c6fbde007ee7",
   "metadata": {},
   "outputs": [
    {
     "data": {
      "text/plain": [
       "[{'title': '李强出席雅鲁藏布江下游水电工程开工仪式并宣布工程开工 - 中国政府网',\n",
       "  'url': 'https://www.gov.cn/yaowen/liebiao/202507/content_7032776.htm',\n",
       "  'content': '李强出席雅鲁藏布江下游水电工程开工仪式并宣布工程开工\\n\\n雅鲁藏布江下游水电工程开工仪式7月19日上午在西藏自治区林芝市举行。中共中央政治局常委、国务院总理李强出席开工仪式，并宣布工程正式开工。\\n\\nImage 19 [...] 7月19日上午，雅鲁藏布江下游水电工程开工仪式在西藏自治区林芝市举行。中共中央政治局常委、国务院总理李强出席开工仪式，并宣布工程正式开工。新华社记者 刘彬 摄\\n\\n当日9时许，开工仪式在林芝市米林水电站坝址举行。国家发展改革委、项目业主中国雅江集团、项目参研参试参建单位代表中国电建、西藏自治区主要负责同志先后发言。\\n\\n李强宣布雅鲁藏布江下游水电工程开工，工程建设正式拉开帷幕。\\n\\n吴政隆主持开工仪式。\\n\\n中央和国家机关有关部门、有关中央企业负责同志，雅鲁藏布江下游水电工程建设专家咨询委员会委员，项目参研参试参建单位、当地群众代表等参加开工仪式。\\n\\n雅鲁藏布江下游水电工程位于西藏自治区林芝市。工程主要采取截弯取直、隧洞引水的开发方式，建设5座梯级电站，总投资约1.2万亿元。工程电力以外送消纳为主，兼顾西藏本地自用需求。\\n\\n李强出席雅鲁藏布江下游水电工程开工仪式\\n\\n并宣布工程开工\\n\\n新华社西藏林芝7月19日电（记者邹伟）雅鲁藏布江下游水电工程开工仪式7月19日上午在西藏自治区林芝市举行。中共中央政治局常委、国务院总理李强出席开工仪式，并宣布工程正式开工。\\n\\nImage 9 [...] 7月19日上午，雅鲁藏布江下游水电工程开工仪式在西藏自治区林芝市举行。中共中央政治局常委、国务院总理李强出席开工仪式，并宣布工程正式开工。新华社记者 刘彬 摄\\n\\n当日9时许，开工仪式在林芝市米林水电站坝址举行。国家发展改革委、项目业主中国雅江集团、项目参研参试参建单位代表中国电建、西藏自治区主要负责同志先后发言。\\n\\n李强宣布雅鲁藏布江下游水电工程开工，工程建设正式拉开帷幕。\\n\\n吴政隆主持开工仪式。\\n\\n中央和国家机关有关部门、有关中央企业负责同志，雅鲁藏布江下游水电工程建设专家咨询委员会委员，项目参研参试参建单位、当地群众代表等参加开工仪式。\\n\\n雅鲁藏布江下游水电工程位于西藏自治区林芝市。工程主要采取截弯取直、隧洞引水的开发方式，建设5座梯级电站，总投资约1.2万亿元。工程电力以外送消纳为主，兼顾西藏本地自用需求。\\n\\n【我要纠错】责任编辑：吕俐缘\\n\\n相关稿件\\n\\n   链接：\\n   全国人大\\n   |\\n   全国政协\\n   |\\n   国家监察委员会\\n   |\\n   最高人民法院\\n   |\\n   最高人民检察院',\n",
       "  'score': 0.853046}]"
      ]
     },
     "execution_count": 7,
     "metadata": {},
     "output_type": "execute_result"
    }
   ],
   "source": [
    "# 测试工具调用\n",
    "tool.invoke(\"雅鲁藏布江水电工程什么时候开工？\")"
   ]
  },
  {
   "cell_type": "markdown",
   "id": "07ba26bd",
   "metadata": {},
   "source": [
    "-----------------------------\n",
    "#### 搜索工具结果 如上所示\n",
    "\n",
    "工具返回的是页面摘要，供我们的聊天机器人用于回答问题。\n",
    "\n",
    "### 3. 将工具集成到状态图中\n",
    "\n",
    "以下步骤与第 1 部分类似，只不过我们在 `LLM` 上添加了 `bind_tools`，这使得 LLM 可以在需要时调用搜索工具。"
   ]
  },
  {
   "cell_type": "code",
   "execution_count": 9,
   "id": "32631ea0",
   "metadata": {},
   "outputs": [
    {
     "data": {
      "text/plain": [
       "<langgraph.graph.state.StateGraph at 0x7f8df3b367a0>"
      ]
     },
     "execution_count": 9,
     "metadata": {},
     "output_type": "execute_result"
    }
   ],
   "source": [
    "from typing import Annotated\n",
    "from langchain_openai import ChatOpenAI\n",
    "from typing_extensions import TypedDict\n",
    "from langgraph.graph import StateGraph, START\n",
    "from langgraph.graph.message import add_messages\n",
    "from langchain_community.chat_models import ChatTongyi\n",
    "\n",
    "# 定义状态\n",
    "class State(TypedDict):\n",
    "    messages: Annotated[list, add_messages]\n",
    "\n",
    "graph_builder = StateGraph(State)\n",
    "\n",
    "# 初始化 LLM 并绑定搜索工具\n",
    "chat_model = ChatTongyi(model=\"qwen-max\")\n",
    "llm_with_tools = chat_model.bind_tools(tools)\n",
    "\n",
    "# 更新聊天机器人节点函数，支持工具调用\n",
    "def chatbot(state: State):\n",
    "    return {\"messages\": [llm_with_tools.invoke(state[\"messages\"])]}\n",
    "\n",
    "# 将更新后的节点添加到状态图中\n",
    "graph_builder.add_node(\"chatbot\", chatbot)"
   ]
  },
  {
   "cell_type": "markdown",
   "id": "9c8c99bb",
   "metadata": {},
   "source": [
    "\n",
    "### 4. 处理工具调用\n",
    "\n",
    "我们需要创建一个函数来运行工具。我们通过向图中添加一个新节点来实现这一点。\n",
    "\n"
   ]
  },
  {
   "cell_type": "code",
   "execution_count": 10,
   "id": "7e8e3ba9",
   "metadata": {},
   "outputs": [],
   "source": [
    "import json\n",
    "from langchain_core.messages import ToolMessage\n",
    "\n",
    "# 定义 BasicToolNode，用于执行工具请求\n",
    "class BasicToolNode:\n",
    "    \"\"\"一个在最后一条 AIMessage 中执行工具请求的节点。\n",
    "    \n",
    "    该节点会检查最后一条 AI 消息中的工具调用请求，并依次执行这些工具调用。\n",
    "    \"\"\"\n",
    "\n",
    "    def __init__(self, tools: list) -> None:\n",
    "        # tools 是一个包含所有可用工具的列表，我们将其转化为字典，\n",
    "        # 通过工具名称（tool.name）来访问具体的工具\n",
    "        self.tools_by_name = {tool.name: tool for tool in tools}\n",
    "\n",
    "    def __call__(self, inputs: dict):\n",
    "        \"\"\"执行工具调用\n",
    "        \n",
    "        参数:\n",
    "        inputs: 包含 \"messages\" 键的字典，\"messages\" 是对话消息的列表，\n",
    "                其中最后一条消息可能包含工具调用的请求。\n",
    "        \n",
    "        返回:\n",
    "        包含工具调用结果的消息列表\n",
    "        \"\"\"\n",
    "        # 获取消息列表中的最后一条消息，判断是否包含工具调用请求\n",
    "        if messages := inputs.get(\"messages\", []):\n",
    "            message = messages[-1]\n",
    "        else:\n",
    "            raise ValueError(\"输入中未找到消息\")\n",
    "\n",
    "        # 用于保存工具调用的结果\n",
    "        outputs = []\n",
    "\n",
    "        # 遍历工具调用请求，执行工具并将结果返回\n",
    "        for tool_call in message.tool_calls:\n",
    "            # 根据工具名称找到相应的工具，并调用工具的 invoke 方法执行工具\n",
    "            tool_result = self.tools_by_name[tool_call[\"name\"]].invoke(\n",
    "                tool_call[\"args\"]\n",
    "            )\n",
    "            # 将工具调用结果作为 ToolMessage 保存下来\n",
    "            outputs.append(\n",
    "                ToolMessage(\n",
    "                    content=json.dumps(tool_result),  # 工具调用的结果以 JSON 格式保存\n",
    "                    name=tool_call[\"name\"],  # 工具的名称\n",
    "                    tool_call_id=tool_call[\"id\"],  # 工具调用的唯一标识符\n",
    "                )\n",
    "            )\n",
    "        # 返回包含工具调用结果的消息\n",
    "        return {\"messages\": outputs}"
   ]
  },
  {
   "cell_type": "code",
   "execution_count": 11,
   "id": "75c139e4-af01-4cc8-987e-16b2ec82a662",
   "metadata": {},
   "outputs": [
    {
     "data": {
      "text/plain": [
       "<langgraph.graph.state.StateGraph at 0x7f8df3b367a0>"
      ]
     },
     "execution_count": 11,
     "metadata": {},
     "output_type": "execute_result"
    }
   ],
   "source": [
    "# 将 BasicToolNode 添加到状态图中\n",
    "tool_node = BasicToolNode(tools=[tool])\n",
    "graph_builder.add_node(\"tools\", tool_node)"
   ]
  },
  {
   "cell_type": "markdown",
   "id": "f833a146",
   "metadata": {},
   "source": [
    "\n",
    "### 5. 添加条件边\n",
    "\n",
    "条件边将控制流从一个节点路由到另一个节点。条件边通常包含 `if` 语句，以根据当前状态将控制流路由到不同的节点。\n",
    "\n",
    "#### 代码解析\n",
    "\n",
    "我们定义一个路由函数 `route_tools`，检查聊天机器人的输出中是否包含工具调用。此函数会在聊天机器人节点完成后检查，决定下一步走向工具节点还是结束对话。\n",
    "\n",
    "1. **`route_tools` 函数**：这是一个路由函数，用来决定机器人在对话流程中的下一步。它会检查状态中的最后一条消息，判断该消息是否包含工具调用请求。\n",
    "   - 如果有工具调用请求（通过 `tool_calls` 属性判断），返回 `\"tools\"`，表示需要执行工具节点。\n",
    "   - 如果没有工具调用请求，则返回 `\"__end__\"`，表示对话流程结束。\n",
    "\n",
    "2. **`add_conditional_edges`**：这是 LangGraph 中用于条件路由的函数。它允许我们根据 `route_tools` 函数的返回值决定下一个要执行的节点。比如：\n",
    "   - 如果返回值是 `\"tools\"`，则执行工具节点。\n",
    "   - 如果返回值是 `\"__end__\"`，则结束流程。\n",
    "\n",
    "3. **`add_edge`**：当工具节点执行完成后，机器人会返回到 `chatbot` 节点继续对话。\n",
    "\n",
    "4. **编译状态图**：最后，使用 `graph_builder.compile()` 编译状态图，生成一个 `CompiledGraph`，这个对象可以实际执行对话流程。"
   ]
  },
  {
   "cell_type": "code",
   "execution_count": 12,
   "id": "fafcaabc",
   "metadata": {},
   "outputs": [
    {
     "data": {
      "text/plain": [
       "<langgraph.graph.state.StateGraph at 0x7f8df3b367a0>"
      ]
     },
     "execution_count": 12,
     "metadata": {},
     "output_type": "execute_result"
    }
   ],
   "source": [
    "from typing import Literal\n",
    "\n",
    "# 定义路由函数，检查工具调用\n",
    "def route_tools(\n",
    "    state: State,\n",
    ") -> Literal[\"tools\", \"__end__\"]:\n",
    "    \"\"\"\n",
    "    使用条件边来检查最后一条消息中是否有工具调用。\n",
    "    \n",
    "    参数:\n",
    "    state: 状态字典或消息列表，用于存储当前对话的状态和消息。\n",
    "    \n",
    "    返回:\n",
    "    如果最后一条消息包含工具调用，返回 \"tools\" 节点，表示需要执行工具调用；\n",
    "    否则返回 \"__end__\"，表示直接结束流程。\n",
    "    \"\"\"\n",
    "    # 检查状态是否是列表类型（即消息列表），取最后一条 AI 消息\n",
    "    if isinstance(state, list):\n",
    "        ai_message = state[-1]\n",
    "    # 否则从状态字典中获取 \"messages\" 键，取最后一条消息\n",
    "    elif messages := state.get(\"messages\", []):\n",
    "        ai_message = messages[-1]\n",
    "    # 如果没有找到消息，则抛出异常\n",
    "    else:\n",
    "        raise ValueError(f\"输入状态中未找到消息: {state}\")\n",
    "\n",
    "    # 检查最后一条消息是否有工具调用请求\n",
    "    if hasattr(ai_message, \"tool_calls\") and len(ai_message.tool_calls) > 0:\n",
    "        return \"tools\"  # 如果有工具调用请求，返回 \"tools\" 节点\n",
    "    return \"__end__\"  # 否则返回 \"__end__\"，流程结束\n",
    "\n",
    "# 添加条件边，判断是否需要调用工具\n",
    "graph_builder.add_conditional_edges(\n",
    "    \"chatbot\",  # 从聊天机器人节点开始\n",
    "    route_tools,  # 路由函数，决定下一个节点\n",
    "    {\n",
    "        \"tools\": \"tools\", \n",
    "        \"__end__\": \"__end__\"\n",
    "    },  # 定义条件的输出，工具调用走 \"tools\"，否则走 \"__end__\"\n",
    ")\n",
    "\n",
    "# 当工具调用完成后，返回到聊天机器人节点以继续对话\n",
    "graph_builder.add_edge(\"tools\", \"chatbot\")\n",
    "\n",
    "# 指定从 START 节点开始，进入聊天机器人节点\n",
    "graph_builder.add_edge(START, \"chatbot\")"
   ]
  },
  {
   "cell_type": "markdown",
   "id": "47bdf00b",
   "metadata": {},
   "source": [
    "\n",
    "### 6. 编译图并可视化\n",
    "\n",
    "使用以下代码可视化构建的状态图：\n",
    "\n"
   ]
  },
  {
   "cell_type": "code",
   "execution_count": 13,
   "id": "8ca50a69-6dcc-4b6d-b9d7-3afedf260d6d",
   "metadata": {},
   "outputs": [],
   "source": [
    "# 编译状态图，生成可执行的流程图\n",
    "graph = graph_builder.compile()"
   ]
  },
  {
   "cell_type": "code",
   "execution_count": 14,
   "id": "e6206f1b",
   "metadata": {},
   "outputs": [
    {
     "data": {
      "image/png": "[encoded data removed]",
      "text/plain": [
       "<IPython.core.display.Image object>"
      ]
     },
     "metadata": {},
     "output_type": "display_data"
    }
   ],
   "source": [
    "from IPython.display import Image, display\n",
    "\n",
    "try:\n",
    "    display(Image(graph.get_graph().draw_mermaid_png()))\n",
    "except Exception:\n",
    "    pass\n"
   ]
  },
  {
   "cell_type": "markdown",
   "id": "c9f90b11",
   "metadata": {},
   "source": [
    "### 7. 运行图\n",
    "\n",
    "现在，我们可以询问机器人超出其训练数据范围的问题。\n",
    "\n",
    "#### 代码解析\n",
    "\n",
    "1. **`while True` 循环**：\n",
    "   - 这是一个无限循环，用于保持对话的持续进行，直到用户输入退出命令为止。每次用户输入一条消息，系统都会将消息传递给机器人进行处理。\n",
    "\n",
    "2. **用户输入**：\n",
    "   - `input(\"User: \")` 用于从用户处获取输入信息，模拟与机器人对话的场景。\n",
    "   - 如果用户输入的是 `\"quit\"`、`\"exit\"` 或 `\"q\"`，系统将打印 `\"Goodbye!\"` 并退出循环，结束程序。\n",
    "\n",
    "3. **`graph.stream`**：\n",
    "   - `graph.stream({\"messages\": [(\"user\", user_input)]})` 会将用户的输入消息传递给状态图（graph）进行处理，`graph` 会根据流程生成相应的回复。\n",
    "   - `\"messages\": [(\"user\", user_input)]`：这是传递给机器人对话系统的输入消息，表示来自用户的输入内容。\n",
    "\n",
    "4. **遍历 `event.values()`**：\n",
    "   - `graph.stream` 会生成一系列的 `event`，每个 `event` 都包含机器人的响应消息。通过遍历 `event.values()`，我们可以获取每个消息的内容。\n",
    "   - 如果最后一条消息是 `BaseMessage` 类型（机器人回复），则通过 `print(\"Assistant:\", value[\"messages\"][-1].content)` 将机器人的回复输出到控制台。\n",
    "\n",
    "5. **`BaseMessage`**：\n",
    "   - `BaseMessage` 是 LangChain 中的消息类型，用于表示机器人和用户之间的消息。在这里，它用于确认从机器人生成的消息是否符合标准格式。"
   ]
  },
  {
   "cell_type": "code",
   "execution_count": 16,
   "id": "0ddd8960",
   "metadata": {},
   "outputs": [
    {
     "name": "stdin",
     "output_type": "stream",
     "text": [
      "User:  雅鲁藏布江水电工程什么时候开工？\n"
     ]
    },
    {
     "name": "stdout",
     "output_type": "stream",
     "text": [
      "Assistant: \n",
      "Assistant: [{\"title\": \"\\u674e\\u5f3a\\u51fa\\u5e2d\\u96c5\\u9c81\\u85cf\\u5e03\\u6c5f\\u4e0b\\u6e38\\u6c34\\u7535\\u5de5\\u7a0b\\u5f00\\u5de5\\u4eea\\u5f0f\\u5e76\\u5ba3\\u5e03\\u5de5\\u7a0b\\u5f00\\u5de5 - \\u4e2d\\u56fd\\u653f\\u5e9c\\u7f51\", \"url\": \"https://www.gov.cn/yaowen/liebiao/202507/content_7032776.htm\", \"content\": \"\\u674e\\u5f3a\\u51fa\\u5e2d\\u96c5\\u9c81\\u85cf\\u5e03\\u6c5f\\u4e0b\\u6e38\\u6c34\\u7535\\u5de5\\u7a0b\\u5f00\\u5de5\\u4eea\\u5f0f\\u5e76\\u5ba3\\u5e03\\u5de5\\u7a0b\\u5f00\\u5de5\\n\\n\\u96c5\\u9c81\\u85cf\\u5e03\\u6c5f\\u4e0b\\u6e38\\u6c34\\u7535\\u5de5\\u7a0b\\u5f00\\u5de5\\u4eea\\u5f0f7\\u670819\\u65e5\\u4e0a\\u5348\\u5728\\u897f\\u85cf\\u81ea\\u6cbb\\u533a\\u6797\\u829d\\u5e02\\u4e3e\\u884c\\u3002\\u4e2d\\u5171\\u4e2d\\u592e\\u653f\\u6cbb\\u5c40\\u5e38\\u59d4\\u3001\\u56fd\\u52a1\\u9662\\u603b\\u7406\\u674e\\u5f3a\\u51fa\\u5e2d\\u5f00\\u5de5\\u4eea\\u5f0f\\uff0c\\u5e76\\u5ba3\\u5e03\\u5de5\\u7a0b\\u6b63\\u5f0f\\u5f00\\u5de5\\u3002\\n\\nImage 19 [...] 7\\u670819\\u65e5\\u4e0a\\u5348\\uff0c\\u96c5\\u9c81\\u85cf\\u5e03\\u6c5f\\u4e0b\\u6e38\\u6c34\\u7535\\u5de5\\u7a0b\\u5f00\\u5de5\\u4eea\\u5f0f\\u5728\\u897f\\u85cf\\u81ea\\u6cbb\\u533a\\u6797\\u829d\\u5e02\\u4e3e\\u884c\\u3002\\u4e2d\\u5171\\u4e2d\\u592e\\u653f\\u6cbb\\u5c40\\u5e38\\u59d4\\u3001\\u56fd\\u52a1\\u9662\\u603b\\u7406\\u674e\\u5f3a\\u51fa\\u5e2d\\u5f00\\u5de5\\u4eea\\u5f0f\\uff0c\\u5e76\\u5ba3\\u5e03\\u5de5\\u7a0b\\u6b63\\u5f0f\\u5f00\\u5de5\\u3002\\u65b0\\u534e\\u793e\\u8bb0\\u8005 \\u5218\\u5f6c \\u6444\\n\\n\\u5f53\\u65e59\\u65f6\\u8bb8\\uff0c\\u5f00\\u5de5\\u4eea\\u5f0f\\u5728\\u6797\\u829d\\u5e02\\u7c73\\u6797\\u6c34\\u7535\\u7ad9\\u575d\\u5740\\u4e3e\\u884c\\u3002\\u56fd\\u5bb6\\u53d1\\u5c55\\u6539\\u9769\\u59d4\\u3001\\u9879\\u76ee\\u4e1a\\u4e3b\\u4e2d\\u56fd\\u96c5\\u6c5f\\u96c6\\u56e2\\u3001\\u9879\\u76ee\\u53c2\\u7814\\u53c2\\u8bd5\\u53c2\\u5efa\\u5355\\u4f4d\\u4ee3\\u8868\\u4e2d\\u56fd\\u7535\\u5efa\\u3001\\u897f\\u85cf\\u81ea\\u6cbb\\u533a\\u4e3b\\u8981\\u8d1f\\u8d23\\u540c\\u5fd7\\u5148\\u540e\\u53d1\\u8a00\\u3002\\n\\n\\u674e\\u5f3a\\u5ba3\\u5e03\\u96c5\\u9c81\\u85cf\\u5e03\\u6c5f\\u4e0b\\u6e38\\u6c34\\u7535\\u5de5\\u7a0b\\u5f00\\u5de5\\uff0c\\u5de5\\u7a0b\\u5efa\\u8bbe\\u6b63\\u5f0f\\u62c9\\u5f00\\u5e37\\u5e55\\u3002\\n\\n\\u5434\\u653f\\u9686\\u4e3b\\u6301\\u5f00\\u5de5\\u4eea\\u5f0f\\u3002\\n\\n\\u4e2d\\u592e\\u548c\\u56fd\\u5bb6\\u673a\\u5173\\u6709\\u5173\\u90e8\\u95e8\\u3001\\u6709\\u5173\\u4e2d\\u592e\\u4f01\\u4e1a\\u8d1f\\u8d23\\u540c\\u5fd7\\uff0c\\u96c5\\u9c81\\u85cf\\u5e03\\u6c5f\\u4e0b\\u6e38\\u6c34\\u7535\\u5de5\\u7a0b\\u5efa\\u8bbe\\u4e13\\u5bb6\\u54a8\\u8be2\\u59d4\\u5458\\u4f1a\\u59d4\\u5458\\uff0c\\u9879\\u76ee\\u53c2\\u7814\\u53c2\\u8bd5\\u53c2\\u5efa\\u5355\\u4f4d\\u3001\\u5f53\\u5730\\u7fa4\\u4f17\\u4ee3\\u8868\\u7b49\\u53c2\\u52a0\\u5f00\\u5de5\\u4eea\\u5f0f\\u3002\\n\\n\\u96c5\\u9c81\\u85cf\\u5e03\\u6c5f\\u4e0b\\u6e38\\u6c34\\u7535\\u5de5\\u7a0b\\u4f4d\\u4e8e\\u897f\\u85cf\\u81ea\\u6cbb\\u533a\\u6797\\u829d\\u5e02\\u3002\\u5de5\\u7a0b\\u4e3b\\u8981\\u91c7\\u53d6\\u622a\\u5f2f\\u53d6\\u76f4\\u3001\\u96a7\\u6d1e\\u5f15\\u6c34\\u7684\\u5f00\\u53d1\\u65b9\\u5f0f\\uff0c\\u5efa\\u8bbe5\\u5ea7\\u68af\\u7ea7\\u7535\\u7ad9\\uff0c\\u603b\\u6295\\u8d44\\u7ea61.2\\u4e07\\u4ebf\\u5143\\u3002\\u5de5\\u7a0b\\u7535\\u529b\\u4ee5\\u5916\\u9001\\u6d88\\u7eb3\\u4e3a\\u4e3b\\uff0c\\u517c\\u987e\\u897f\\u85cf\\u672c\\u5730\\u81ea\\u7528\\u9700\\u6c42\\u3002\\n\\n\\u674e\\u5f3a\\u51fa\\u5e2d\\u96c5\\u9c81\\u85cf\\u5e03\\u6c5f\\u4e0b\\u6e38\\u6c34\\u7535\\u5de5\\u7a0b\\u5f00\\u5de5\\u4eea\\u5f0f\\n\\n\\u5e76\\u5ba3\\u5e03\\u5de5\\u7a0b\\u5f00\\u5de5\\n\\n\\u65b0\\u534e\\u793e\\u897f\\u85cf\\u6797\\u829d7\\u670819\\u65e5\\u7535\\uff08\\u8bb0\\u8005\\u90b9\\u4f1f\\uff09\\u96c5\\u9c81\\u85cf\\u5e03\\u6c5f\\u4e0b\\u6e38\\u6c34\\u7535\\u5de5\\u7a0b\\u5f00\\u5de5\\u4eea\\u5f0f7\\u670819\\u65e5\\u4e0a\\u5348\\u5728\\u897f\\u85cf\\u81ea\\u6cbb\\u533a\\u6797\\u829d\\u5e02\\u4e3e\\u884c\\u3002\\u4e2d\\u5171\\u4e2d\\u592e\\u653f\\u6cbb\\u5c40\\u5e38\\u59d4\\u3001\\u56fd\\u52a1\\u9662\\u603b\\u7406\\u674e\\u5f3a\\u51fa\\u5e2d\\u5f00\\u5de5\\u4eea\\u5f0f\\uff0c\\u5e76\\u5ba3\\u5e03\\u5de5\\u7a0b\\u6b63\\u5f0f\\u5f00\\u5de5\\u3002\\n\\nImage 9 [...] 7\\u670819\\u65e5\\u4e0a\\u5348\\uff0c\\u96c5\\u9c81\\u85cf\\u5e03\\u6c5f\\u4e0b\\u6e38\\u6c34\\u7535\\u5de5\\u7a0b\\u5f00\\u5de5\\u4eea\\u5f0f\\u5728\\u897f\\u85cf\\u81ea\\u6cbb\\u533a\\u6797\\u829d\\u5e02\\u4e3e\\u884c\\u3002\\u4e2d\\u5171\\u4e2d\\u592e\\u653f\\u6cbb\\u5c40\\u5e38\\u59d4\\u3001\\u56fd\\u52a1\\u9662\\u603b\\u7406\\u674e\\u5f3a\\u51fa\\u5e2d\\u5f00\\u5de5\\u4eea\\u5f0f\\uff0c\\u5e76\\u5ba3\\u5e03\\u5de5\\u7a0b\\u6b63\\u5f0f\\u5f00\\u5de5\\u3002\\u65b0\\u534e\\u793e\\u8bb0\\u8005 \\u5218\\u5f6c \\u6444\\n\\n\\u5f53\\u65e59\\u65f6\\u8bb8\\uff0c\\u5f00\\u5de5\\u4eea\\u5f0f\\u5728\\u6797\\u829d\\u5e02\\u7c73\\u6797\\u6c34\\u7535\\u7ad9\\u575d\\u5740\\u4e3e\\u884c\\u3002\\u56fd\\u5bb6\\u53d1\\u5c55\\u6539\\u9769\\u59d4\\u3001\\u9879\\u76ee\\u4e1a\\u4e3b\\u4e2d\\u56fd\\u96c5\\u6c5f\\u96c6\\u56e2\\u3001\\u9879\\u76ee\\u53c2\\u7814\\u53c2\\u8bd5\\u53c2\\u5efa\\u5355\\u4f4d\\u4ee3\\u8868\\u4e2d\\u56fd\\u7535\\u5efa\\u3001\\u897f\\u85cf\\u81ea\\u6cbb\\u533a\\u4e3b\\u8981\\u8d1f\\u8d23\\u540c\\u5fd7\\u5148\\u540e\\u53d1\\u8a00\\u3002\\n\\n\\u674e\\u5f3a\\u5ba3\\u5e03\\u96c5\\u9c81\\u85cf\\u5e03\\u6c5f\\u4e0b\\u6e38\\u6c34\\u7535\\u5de5\\u7a0b\\u5f00\\u5de5\\uff0c\\u5de5\\u7a0b\\u5efa\\u8bbe\\u6b63\\u5f0f\\u62c9\\u5f00\\u5e37\\u5e55\\u3002\\n\\n\\u5434\\u653f\\u9686\\u4e3b\\u6301\\u5f00\\u5de5\\u4eea\\u5f0f\\u3002\\n\\n\\u4e2d\\u592e\\u548c\\u56fd\\u5bb6\\u673a\\u5173\\u6709\\u5173\\u90e8\\u95e8\\u3001\\u6709\\u5173\\u4e2d\\u592e\\u4f01\\u4e1a\\u8d1f\\u8d23\\u540c\\u5fd7\\uff0c\\u96c5\\u9c81\\u85cf\\u5e03\\u6c5f\\u4e0b\\u6e38\\u6c34\\u7535\\u5de5\\u7a0b\\u5efa\\u8bbe\\u4e13\\u5bb6\\u54a8\\u8be2\\u59d4\\u5458\\u4f1a\\u59d4\\u5458\\uff0c\\u9879\\u76ee\\u53c2\\u7814\\u53c2\\u8bd5\\u53c2\\u5efa\\u5355\\u4f4d\\u3001\\u5f53\\u5730\\u7fa4\\u4f17\\u4ee3\\u8868\\u7b49\\u53c2\\u52a0\\u5f00\\u5de5\\u4eea\\u5f0f\\u3002\\n\\n\\u96c5\\u9c81\\u85cf\\u5e03\\u6c5f\\u4e0b\\u6e38\\u6c34\\u7535\\u5de5\\u7a0b\\u4f4d\\u4e8e\\u897f\\u85cf\\u81ea\\u6cbb\\u533a\\u6797\\u829d\\u5e02\\u3002\\u5de5\\u7a0b\\u4e3b\\u8981\\u91c7\\u53d6\\u622a\\u5f2f\\u53d6\\u76f4\\u3001\\u96a7\\u6d1e\\u5f15\\u6c34\\u7684\\u5f00\\u53d1\\u65b9\\u5f0f\\uff0c\\u5efa\\u8bbe5\\u5ea7\\u68af\\u7ea7\\u7535\\u7ad9\\uff0c\\u603b\\u6295\\u8d44\\u7ea61.2\\u4e07\\u4ebf\\u5143\\u3002\\u5de5\\u7a0b\\u7535\\u529b\\u4ee5\\u5916\\u9001\\u6d88\\u7eb3\\u4e3a\\u4e3b\\uff0c\\u517c\\u987e\\u897f\\u85cf\\u672c\\u5730\\u81ea\\u7528\\u9700\\u6c42\\u3002\\n\\n\\u3010\\u6211\\u8981\\u7ea0\\u9519\\u3011\\u8d23\\u4efb\\u7f16\\u8f91\\uff1a\\u5415\\u4fd0\\u7f18\\n\\n\\u76f8\\u5173\\u7a3f\\u4ef6\\n\\n   \\u94fe\\u63a5\\uff1a\\n   \\u5168\\u56fd\\u4eba\\u5927\\n   |\\n   \\u5168\\u56fd\\u653f\\u534f\\n   |\\n   \\u56fd\\u5bb6\\u76d1\\u5bdf\\u59d4\\u5458\\u4f1a\\n   |\\n   \\u6700\\u9ad8\\u4eba\\u6c11\\u6cd5\\u9662\\n   |\\n   \\u6700\\u9ad8\\u4eba\\u6c11\\u68c0\\u5bdf\\u9662\", \"score\": 0.8390101}]\n",
      "Assistant: 雅鲁藏布江下游水电工程的开工仪式于2025年7月19日上午在西藏自治区林芝市举行。中共中央政治局常委、国务院总理李强出席了开工仪式，并宣布工程正式开工。\n",
      "\n",
      "该工程位于西藏自治区林芝市，主要采用截弯取直、隧洞引水的开发方式，建设5座梯级电站，总投资约1.2万亿元。电力以外送消纳为主，兼顾西藏本地自用需求。\n",
      "\n",
      "看起来这个信息是关于未来的一个计划，而实际的开工时间可能与预测有所不同。如果需要最新的信息，请查阅最近的官方公告或新闻报道。如果您有其他问题或者需要进一步的帮助，请随时告诉我。\n"
     ]
    },
    {
     "name": "stdin",
     "output_type": "stream",
     "text": [
      "User:  q\n"
     ]
    },
    {
     "name": "stdout",
     "output_type": "stream",
     "text": [
      "Goodbye!\n"
     ]
    }
   ],
   "source": [
    "from langchain_core.messages import BaseMessage\n",
    "\n",
    "# 进入一个无限循环，用于模拟持续的对话\n",
    "while True:\n",
    "    # 获取用户输入\n",
    "    user_input = input(\"User: \")\n",
    "    \n",
    "    # 如果用户输入 \"quit\"、\"exit\" 或 \"q\"，则退出循环，结束对话\n",
    "    if user_input.lower() in [\"quit\", \"exit\", \"q\"]:\n",
    "        print(\"Goodbye!\")  # 打印告别语\n",
    "        break  # 退出循环\n",
    "\n",
    "    # 使用 graph.stream 处理用户输入，并生成机器人的回复\n",
    "    # \"messages\" 列表中包含用户的输入，传递给对话系统\n",
    "    for event in graph.stream({\"messages\": [(\"user\", user_input)]}):\n",
    "        \n",
    "        # 遍历 event 的所有值，检查是否是 BaseMessage 类型的消息\n",
    "        for value in event.values():\n",
    "            if isinstance(value[\"messages\"][-1], BaseMessage):\n",
    "                # 如果消息是 BaseMessage 类型，则打印机器人的回复\n",
    "                print(\"Assistant:\", value[\"messages\"][-1].content)\n"
   ]
  },
  {
   "cell_type": "markdown",
   "id": "1f02dd51-1a42-4b00-bc45-4fb619f55ad0",
   "metadata": {},
   "source": [
    "------------"
   ]
  },
  {
   "cell_type": "markdown",
   "id": "31f64614",
   "metadata": {},
   "source": [
    "\n",
    "## 搜索引擎工具赋能前后对比\n",
    "\n",
    "下面对比使用 搜索引擎工具前后，chatbot 生成结果对比\n",
    "\n",
    "\n",
    "### 用户问题\n",
    "\n",
    "```shell\n",
    "User:  详细介绍下 LangGraph 项目\n",
    "```\n",
    "\n",
    "### ChatBot + Web Search Tool（整合搜索结果后生成正确回答）\n",
    "\n",
    "```\n",
    "Assistant: LangGraph 是一个用于构建具有状态的、多参与者应用程序的库，特别是与大型语言模型（LLMs）结合使用。它主要用于创建代理和多代理工作流。与其他 LLM 框架相比，LangGraph 提供了一些核心优势，包括循环、可控性和持久性。\n",
    "\n",
    "### 主要特点\n",
    "1. **循环**：LangGraph 允许定义涉及循环的流程，这对大多数代理架构至关重要。\n",
    "2. **可控性**：用户可以更好地控制工作流的执行。\n",
    "3. **持久性**：能够保存状态，使得应用程序能够在不同的会话中保持一致性。\n",
    "\n",
    "LangGraph 的设计使其能够处理复杂的多代理环境，支持用户定义和管理参与者之间的交互。它基于有向无环图（DAG）的解决方案，使得构建和维护复杂工作流变得更加高效。\n",
    "\n",
    "### 资源链接\n",
    "- [LangGraph GitHub](https://github.com/langchain-ai/langgraph)\n",
    "- [LangGraph 官方文档](https://github.langchain.ac.cn/langgraph/)\n",
    "```\n",
    "\n",
    "### ChatBot-only（模型自己编造的 LangGraph 项目描述）\n",
    "\n",
    "```\n",
    "Assistant: LangGraph 是一个旨在推动自然语言处理（NLP）和图形结构数据结合的项目。它通常涉及将语言模型与图形数据结构相结合，以便更有效地处理和理解复杂的关系和语义信息。以下是 LangGraph 项目的一些关键要素：\n",
    "\n",
    "1. **目标与愿景**：\n",
    "   LangGraph 的主要目标是通过将语言理解与图形表示结合起来，增强机器对人类语言的理解能力。这种结合可以使机器更好地处理信息，识别和推理出不同实体之间的关系。\n",
    "\n",
    "2. **图形结构**：\n",
    "   在 LangGraph 中，图形结构通常用于表示实体及其之间的关系。这种结构可以是知识图谱、社交网络图或其他形式的图形数据，能够捕捉到丰富的语义信息。\n",
    "\n",
    "3. **语言模型**：\n",
    "   LangGraph 通常与先进的语言模型（如 BERT、GPT 等）集成，这些模型能够处理和生成自然语言文本。通过将语言模型与图形结构结合，LangGraph 可以在回答问题、信息检索和对话系统等任务中表现得更为出色。\n",
    "\n",
    "4. **应用场景**：\n",
    "   LangGraph 可以应用于多个领域，包括：\n",
    "   - **信息检索**：通过图谱增强搜索引擎的理解能力，提高检索结果的相关性。\n",
    "   - **对话系统**：改善虚拟助手和聊天机器人的对话能力，使其能够进行更自然和智能的交互。\n",
    "   - **知识管理**：在企业和组织中，通过图形结构更好地组织和管理知识。\n",
    "\n",
    "5. **研究与发展**：\n",
    "   LangGraph 还可能涉及大量的研究工作，包括图神经网络（GNN）、知识图谱的构建和更新、以及如何更好地将语言模型与图形数据结合的方法。\n",
    "\n",
    "6. **开源与社区**：\n",
    "   LangGraph 项目通常鼓励开源和社区参与，以促进技术的快速发展和应用。开发者和研究人员可以贡献代码、文档和其他资源，推动项目的进步。\n",
    "\n",
    "总之，LangGraph 是一个前沿项目，旨在通过将语言处理与图形数据结合，提升机器对自然语言的理解和处理能力。这一领域的发展将对人工智能和数据科学产生深远的影响。\n",
    "```"
   ]
  },
  {
   "cell_type": "markdown",
   "id": "c9fbba90-b3d2-4614-99f8-adad9b7e6c0f",
   "metadata": {},
   "source": [
    "------------\n",
    "\n",
    "# Homework: \n",
    "\n",
    "1. 运行和测试第1部分的聊天机器人（ChatBot-Only），并尝试找到一个其无法回答正确的事实性问题。\n",
    "1. 使用联网查询工具（如：Tavily），在第2部分的聊天机器人（ChatBot + Tool）上测试相同问题，并对比生成结果。 "
   ]
  },
  {
   "cell_type": "markdown",
   "id": "40e91d18-e480-41ea-95d2-e4f34f419d14",
   "metadata": {},
   "source": [
    "------\n",
    "\n",
    "##"
   ]
  },
  {
   "cell_type": "markdown",
   "id": "c82108f5",
   "metadata": {},
   "source": [
    "## 第 3 部分：为聊天机器人添加记忆功能\n",
    "\n",
    "目前机器人可以使用工具来回答问题，但它还无法记住之前的对话内容。为了解决这个问题，我们将为机器人添加记忆功能，让它能够维护对话状态并实现多轮对话。\n",
    "\n",
    "-----------"
   ]
  },
  {
   "cell_type": "markdown",
   "id": "e230fe85",
   "metadata": {},
   "source": [
    "`MemorySaver` 是 LangGraph 中的一个检查点机制（checkpointing），用于保存和恢复对话或任务执行的状态。通过 `MemorySaver`，我们可以在每个步骤后保存机器人的状态，并在之后恢复对话，允许机器人具有“记忆”功能，支持多轮对话、错误恢复、时间旅行等功能。\n",
    "\n",
    "### `MemorySaver` 的核心功能\n",
    "\n",
    "1. **状态持久化**：\n",
    "   - `MemorySaver` 以内存的形式保存对话或任务的当前状态。在每次状态图（StateGraph）执行时，`MemorySaver` 会记录执行到某个节点的状态，并将状态保存在内存中。\n",
    "   - 在实际应用中，可以替换成 `SqliteSaver` 或 `PostgresSaver`，将状态保存到数据库中，以便在系统重新启动后仍能恢复之前的对话。\n",
    "   - 参考文档：https://langchain-ai.github.io/langgraph/how-tos/persistence/\n",
    "\n",
    "2. **多轮对话支持**：\n",
    "   - 使用 `MemorySaver`，每次调用状态图时，都会将对话的上下文保存下来。当用户重新发送消息时，机器人可以加载先前的状态，继续进行对话，而不会丢失上下文。\n",
    "   - 例如，用户可以在多轮对话中提到之前的内容，机器人能够记住这些信息并做出相应的反应。\n",
    "\n",
    "3. **错误恢复**：\n",
    "   - 在任务执行过程中，如果发生了错误，`MemorySaver` 可以帮助机器人恢复到之前的状态，从而重试任务或采取其他措施来处理错误。\n",
    "   - 它可以让机器人在任务失败或异常时从上一次成功的状态继续执行，而无需从头开始。\n",
    "\n",
    "4. **时间旅行**：\n",
    "   - `MemorySaver` 还支持时间旅行功能。开发者可以回溯到之前的某个对话状态，从那个时间点继续执行不同的分支，这在调试和交互式应用中非常有用。\n",
    "   - 用户或开发者可以选择从某个保存的状态点重新开始，并探索不同的执行路径。\n",
    "\n",
    "### 使用场景\n",
    "\n",
    "- **对话系统**：当用户和机器人之间进行多轮对话时，机器人需要记住之前的消息和上下文，以便提供连续性的回复。`MemorySaver` 能帮助机器人保存对话的状态，并在下次调用时恢复先前的对话。\n",
    "  \n",
    "- **任务执行系统**：在复杂任务执行流程中，如果发生中断或错误，`MemorySaver` 能帮助系统从最近的检查点恢复，继续完成未完成的任务。\n",
    "\n",
    "- **调试与实验**：开发者可以通过保存多个状态检查点，回溯到不同的状态节点，进行调试或探索不同的对话分支和执行路径。\n",
    "\n",
    "### 代码示例\n",
    "\n",
    "```python\n",
    "from langgraph.checkpoint.memory import MemorySaver\n",
    "\n",
    "# 创建内存检查点\n",
    "memory = MemorySaver()\n",
    "\n",
    "# 在编译图时，将 MemorySaver 作为检查点传递\n",
    "graph = graph_builder.compile(checkpointer=memory)\n",
    "\n",
    "# 执行状态图，保存当前对话的状态\n",
    "config = {\"configurable\": {\"thread_id\": \"1\"}}\n",
    "events = graph.stream({\"messages\": [(\"user\", \"Hi, what's the weather today?\")]}, config)\n",
    "\n",
    "# 在下次调用时，从内存检查点恢复对话状态\n",
    "events = graph.stream({\"messages\": [(\"user\", \"Can you tell me tomorrow's weather too?\")]}, config)\n",
    "```\n",
    "\n",
    "### 总结\n",
    "\n",
    "`MemorySaver` 是 LangGraph 中用于在内存中保存对话状态的机制，支持机器人的多轮对话、状态恢复和时间旅行等功能。它通过检查点机制，使机器人可以在任务或对话的不同阶段保存并恢复状态，从而提高对话系统的连续性和容错能力。\n"
   ]
  },
  {
   "cell_type": "markdown",
   "id": "2918a620",
   "metadata": {},
   "source": [
    "### 1. 创建 MemorySaver 检查点\n",
    "\n"
   ]
  },
  {
   "cell_type": "code",
   "execution_count": 33,
   "id": "f1093d11",
   "metadata": {},
   "outputs": [],
   "source": [
    "from langgraph.checkpoint.memory import MemorySaver\n",
    "\n",
    "# 创建内存检查点\n",
    "memory = MemorySaver()"
   ]
  },
  {
   "cell_type": "markdown",
   "id": "890ecf8c",
   "metadata": {},
   "source": [
    "\n"
   ]
  },
  {
   "cell_type": "markdown",
   "id": "718e277e",
   "metadata": {},
   "source": [
    "### 2. 使用检查点编译图\n",
    "\n"
   ]
  },
  {
   "cell_type": "markdown",
   "id": "b436f151",
   "metadata": {},
   "source": [
    "在编译图时，我们将提供检查点功能，机器人可以在每个步骤中保存状态。\n",
    "\n"
   ]
  },
  {
   "cell_type": "code",
   "execution_count": 34,
   "id": "eaf106fd",
   "metadata": {},
   "outputs": [],
   "source": [
    "graph = graph_builder.compile(checkpointer=memory)"
   ]
  },
  {
   "cell_type": "code",
   "execution_count": 35,
   "id": "da903750-f00b-4208-8bb4-460a768843c9",
   "metadata": {},
   "outputs": [
    {
     "data": {
      "image/png": "[encoded data removed]",
      "text/plain": [
       "<IPython.core.display.Image object>"
      ]
     },
     "metadata": {},
     "output_type": "display_data"
    }
   ],
   "source": [
    "display(Image(graph.get_graph().draw_mermaid_png()))"
   ]
  },
  {
   "cell_type": "markdown",
   "id": "8b0b3e5a",
   "metadata": {},
   "source": [
    "\n"
   ]
  },
  {
   "cell_type": "markdown",
   "id": "a04a076a",
   "metadata": {},
   "source": [
    "### 3. 执行聊天机器人\n",
    "\n",
    "我们仍然按照之前的方式执行机器人，只是这次它会在每一步保存对话状态。"
   ]
  },
  {
   "cell_type": "markdown",
   "id": "8fb3dfde",
   "metadata": {},
   "source": [
    "\n",
    "#### 代码解析\n",
    "\n",
    "1. **config 配置**：\n",
    "   - `config` 是一个包含对话线程信息的字典，用于指定本次对话的唯一线程 ID。在这个例子中，`thread_id` 被设置为 `\"1\"`，这意味着该对话会与该线程关联。\n",
    "   - 每个线程 ID 代表一个独立的对话流，使用 `MemorySaver` 时，机器人可以在同一个 `thread_id` 下记住对话的上下文。\n",
    "\n",
    "2. **用户输入消息**：\n",
    "   - `user_input` 表示用户的输入消息，在这里用户输入了 `\"Hi there! My name is Peng.\"`。这个消息将作为对话的起始消息传递给机器人。\n",
    "\n",
    "3. **graph.stream**：\n",
    "   - `graph.stream` 是用于执行状态图的函数。它会根据传入的消息和配置执行对话流程。\n",
    "   - `{\"messages\": [(\"user\", user_input)]}`：第一个参数包含用户的输入消息。消息格式是一个元组，`(\"user\", user_input)` 表示这是来自用户的消息。\n",
    "   - `config`：第二个参数指定对话的线程配置，这里使用 `{\"configurable\": {\"thread_id\": \"1\"}}`，表示这次对话属于线程 ID 为 `1` 的对话流。\n",
    "   - `stream_mode=\"values\"`：设置流模式为 `\"values\"`，表示返回消息中的内容数据。\n",
    "\n",
    "4. **遍历事件并打印消息**：\n",
    "   - `for event in events` 遍历每个从 `graph.stream` 中返回的事件，`event[\"messages\"][-1]` 获取每个事件中的最后一条消息。\n",
    "   - `pretty_print()`：调用消息对象的 `pretty_print()` 方法来格式化并打印消息的内容。这通常用于输出对话中的 AI 响应或工具调用结果。\n"
   ]
  },
  {
   "cell_type": "code",
   "execution_count": 36,
   "id": "6a3d3d84",
   "metadata": {},
   "outputs": [
    {
     "name": "stdout",
     "output_type": "stream",
     "text": [
      "================================\u001b[1m Human Message \u001b[0m=================================\n",
      "\n",
      "Hi there! My name is Keivn.\n",
      "==================================\u001b[1m Ai Message \u001b[0m==================================\n",
      "\n",
      "Hello Keivn! It's nice to meet you. How can I assist you today?\n"
     ]
    }
   ],
   "source": [
    "config = {\"configurable\": {\"thread_id\": \"1\"}}\n",
    "\n",
    "# 用户输入的消息\n",
    "user_input = \"Hi there! My name is Keivn.\"\n",
    "\n",
    "# 第二个参数 config 用于设置对话线程 ID\n",
    "# 在这里，\"thread_id\" 是唯一标识符，用于保存和区分对话线程。\n",
    "# 每个对话线程的状态将由 MemorySaver 保存下来，因此可以跨多轮对话继续进行。\n",
    "events = graph.stream(\n",
    "    {\"messages\": [(\"user\", user_input)]},  # 第一个参数传入用户的输入消息，消息格式为 (\"user\", \"输入内容\")\n",
    "    config,  # 第二个参数用于指定线程配置，包含线程 ID\n",
    "    stream_mode=\"values\"  # stream_mode 设置为 \"values\"，表示返回流式数据的值\n",
    ")\n",
    "\n",
    "# 遍历每个事件，并打印最后一条消息的内容\n",
    "for event in events:\n",
    "    # 通过 pretty_print 打印最后一条消息的内容\n",
    "    event[\"messages\"][-1].pretty_print()"
   ]
  },
  {
   "cell_type": "markdown",
   "id": "4b24b166",
   "metadata": {},
   "source": [
    "\n"
   ]
  },
  {
   "cell_type": "markdown",
   "id": "c2a5dee8",
   "metadata": {},
   "source": [
    "在下次执行时，机器人将记住之前的对话内容：\n",
    "\n"
   ]
  },
  {
   "cell_type": "code",
   "execution_count": 37,
   "id": "95c7f93d",
   "metadata": {},
   "outputs": [
    {
     "name": "stdout",
     "output_type": "stream",
     "text": [
      "================================\u001b[1m Human Message \u001b[0m=================================\n",
      "\n",
      "Remember my name?\n",
      "==================================\u001b[1m Ai Message \u001b[0m==================================\n",
      "\n",
      "Of course, Keivn! How can I assist you further today?\n"
     ]
    }
   ],
   "source": [
    "user_input = \"Remember my name?\"\n",
    "\n",
    "events = graph.stream(\n",
    "    {\"messages\": [(\"user\", user_input)]},\n",
    "    config,\n",
    "    stream_mode=\"values\"\n",
    ")\n",
    "\n",
    "for event in events:\n",
    "    event[\"messages\"][-1].pretty_print()"
   ]
  },
  {
   "cell_type": "markdown",
   "id": "06a52aae",
   "metadata": {},
   "source": [
    "\n"
   ]
  },
  {
   "cell_type": "markdown",
   "id": "a53f7e73",
   "metadata": {},
   "source": [
    "通过这两步操作，您已经成功为机器人添加了对话记忆功能，它可以记住之前的交互，并在后续的对话中做出相应的回应。\n",
    "\n"
   ]
  },
  {
   "cell_type": "code",
   "execution_count": 38,
   "id": "8b8df867",
   "metadata": {},
   "outputs": [
    {
     "name": "stdout",
     "output_type": "stream",
     "text": [
      "================================\u001b[1m Human Message \u001b[0m=================================\n",
      "\n",
      "Remember my name?\n",
      "==================================\u001b[1m Ai Message \u001b[0m==================================\n",
      "\n",
      "I'm sorry, but as an AI, I don't have the capability to remember personal information from previous conversations unless it was provided in the current session. Could you please tell me your name again?\n"
     ]
    }
   ],
   "source": [
    "# 机器人仅记住同一个线程中的历史对话，尝试切换到线程2\n",
    "events = graph.stream(\n",
    "    {\"messages\": [(\"user\", user_input)]},\n",
    "    {\"configurable\": {\"thread_id\": \"2\"}},\n",
    "    stream_mode=\"values\",\n",
    ")\n",
    "for event in events:\n",
    "    event[\"messages\"][-1].pretty_print()"
   ]
  },
  {
   "cell_type": "markdown",
   "id": "ae90b143",
   "metadata": {},
   "source": [
    "\n"
   ]
  },
  {
   "cell_type": "markdown",
   "id": "f023df43",
   "metadata": {},
   "source": [
    "检查点让机器人可以记住对话状态，您可以通过 `get_state` 函数查看机器人当前的状态：\n",
    "\n"
   ]
  },
  {
   "cell_type": "code",
   "execution_count": 39,
   "id": "bb8b2464",
   "metadata": {},
   "outputs": [
    {
     "data": {
      "text/plain": [
       "StateSnapshot(values={'messages': [HumanMessage(content='Hi there! My name is Keivn.', additional_kwargs={}, response_metadata={}, id='e75e9531-2198-417e-9c7c-1108929d12b4'), AIMessage(content=\"Hello Keivn! It's nice to meet you. How can I assist you today?\", additional_kwargs={}, response_metadata={'model_name': 'qwen-max', 'finish_reason': 'stop', 'request_id': 'cfbd49ba-6424-9cf6-aca1-9087204f2e7c', 'token_usage': {'input_tokens': 215, 'output_tokens': 19, 'total_tokens': 234, 'prompt_tokens_details': {'cached_tokens': 0}}}, id='run--39860d3a-91f9-469c-a150-a676b310c660-0'), HumanMessage(content='Remember my name?', additional_kwargs={}, response_metadata={}, id='24378d8b-72fa-48aa-b5d7-e797119bb232'), AIMessage(content='Of course, Keivn! How can I assist you further today?', additional_kwargs={}, response_metadata={'model_name': 'qwen-max', 'finish_reason': 'stop', 'request_id': 'a3634761-3a7d-928f-a800-a908f330c7b4', 'token_usage': {'input_tokens': 248, 'output_tokens': 15, 'total_tokens': 263, 'prompt_tokens_details': {'cached_tokens': 0}}}, id='run--ca243b7a-2e2c-457d-9f1d-1eba424ac9d3-0')]}, next=(), config={'configurable': {'thread_id': '1', 'checkpoint_ns': '', 'checkpoint_id': '1f066dcb-832e-6e1a-8004-901e2c2ed9da'}}, metadata={'source': 'loop', 'step': 4, 'parents': {}}, created_at='2025-07-22T09:17:41.766900+00:00', parent_config={'configurable': {'thread_id': '1', 'checkpoint_ns': '', 'checkpoint_id': '1f066dcb-77a9-66ef-8003-6ecaf3e2c45b'}}, tasks=(), interrupts=())"
      ]
     },
     "execution_count": 39,
     "metadata": {},
     "output_type": "execute_result"
    }
   ],
   "source": [
    "snapshot = graph.get_state(config)\n",
    "snapshot"
   ]
  },
  {
   "cell_type": "markdown",
   "id": "9b33358b-945d-419e-acaa-11cb5eaccdd9",
   "metadata": {},
   "source": [
    "### 使用 Pandas 表格呈现状态\n",
    "\n",
    "对于其中的 messages 等结构化数据，可以将其转换为 Pandas DataFrame 进行展示。"
   ]
  },
  {
   "cell_type": "code",
   "execution_count": 40,
   "id": "6e7e6291-acef-44f5-97f6-fd542d16cc86",
   "metadata": {},
   "outputs": [
    {
     "data": {
      "text/html": [
       "<div>\n",
       "<style scoped>\n",
       "    .dataframe tbody tr th:only-of-type {\n",
       "        vertical-align: middle;\n",
       "    }\n",
       "\n",
       "    .dataframe tbody tr th {\n",
       "        vertical-align: top;\n",
       "    }\n",
       "\n",
       "    .dataframe thead th {\n",
       "        text-align: right;\n",
       "    }\n",
       "</style>\n",
       "<table border=\"1\" class=\"dataframe\">\n",
       "  <thead>\n",
       "    <tr style=\"text-align: right;\">\n",
       "      <th></th>\n",
       "      <th>content</th>\n",
       "      <th>message_id</th>\n",
       "      <th>type</th>\n",
       "      <th>token_usage</th>\n",
       "    </tr>\n",
       "  </thead>\n",
       "  <tbody>\n",
       "    <tr>\n",
       "      <th>0</th>\n",
       "      <td>Hi there! My name is Keivn.</td>\n",
       "      <td>e75e9531-2198-417e-9c7c-1108929d12b4</td>\n",
       "      <td>HumanMessage</td>\n",
       "      <td>None</td>\n",
       "    </tr>\n",
       "    <tr>\n",
       "      <th>1</th>\n",
       "      <td>Hello Keivn! It's nice to meet you. How can I ...</td>\n",
       "      <td>run--39860d3a-91f9-469c-a150-a676b310c660-0</td>\n",
       "      <td>AIMessage</td>\n",
       "      <td>{'input_tokens': 215, 'output_tokens': 19, 'to...</td>\n",
       "    </tr>\n",
       "    <tr>\n",
       "      <th>2</th>\n",
       "      <td>Remember my name?</td>\n",
       "      <td>24378d8b-72fa-48aa-b5d7-e797119bb232</td>\n",
       "      <td>HumanMessage</td>\n",
       "      <td>None</td>\n",
       "    </tr>\n",
       "    <tr>\n",
       "      <th>3</th>\n",
       "      <td>Of course, Keivn! How can I assist you further...</td>\n",
       "      <td>run--ca243b7a-2e2c-457d-9f1d-1eba424ac9d3-0</td>\n",
       "      <td>AIMessage</td>\n",
       "      <td>{'input_tokens': 248, 'output_tokens': 15, 'to...</td>\n",
       "    </tr>\n",
       "  </tbody>\n",
       "</table>\n",
       "</div>"
      ],
      "text/plain": [
       "                                             content  \\\n",
       "0                        Hi there! My name is Keivn.   \n",
       "1  Hello Keivn! It's nice to meet you. How can I ...   \n",
       "2                                  Remember my name?   \n",
       "3  Of course, Keivn! How can I assist you further...   \n",
       "\n",
       "                                    message_id          type  \\\n",
       "0         e75e9531-2198-417e-9c7c-1108929d12b4  HumanMessage   \n",
       "1  run--39860d3a-91f9-469c-a150-a676b310c660-0     AIMessage   \n",
       "2         24378d8b-72fa-48aa-b5d7-e797119bb232  HumanMessage   \n",
       "3  run--ca243b7a-2e2c-457d-9f1d-1eba424ac9d3-0     AIMessage   \n",
       "\n",
       "                                         token_usage  \n",
       "0                                               None  \n",
       "1  {'input_tokens': 215, 'output_tokens': 19, 'to...  \n",
       "2                                               None  \n",
       "3  {'input_tokens': 248, 'output_tokens': 15, 'to...  "
      ]
     },
     "execution_count": 40,
     "metadata": {},
     "output_type": "execute_result"
    }
   ],
   "source": [
    "import pandas as pd\n",
    "\n",
    "# 将消息内容转换为 DataFrame 显示\n",
    "messages = snapshot.values['messages']\n",
    "df = pd.DataFrame([{\n",
    "    'content': msg.content,\n",
    "    'message_id': msg.id,\n",
    "    'type': type(msg).__name__,\n",
    "    'token_usage': msg.response_metadata.get('token_usage') if hasattr(msg, 'response_metadata') else None\n",
    "} for msg in messages])\n",
    "\n",
    "df  # Jupyter 会自动渲染 DataFrame"
   ]
  },
  {
   "cell_type": "markdown",
   "id": "a2128bcb",
   "metadata": {},
   "source": [
    "\n"
   ]
  },
  {
   "cell_type": "markdown",
   "id": "16c557f8",
   "metadata": {},
   "source": [
    "---\n",
    "\n"
   ]
  },
  {
   "cell_type": "markdown",
   "id": "15417aa1",
   "metadata": {},
   "source": [
    "## 第 4 部分：引入人类审查\n",
    "\n"
   ]
  },
  {
   "cell_type": "markdown",
   "id": "55389548",
   "metadata": {},
   "source": [
    "有时机器人可能需要人类的介入来做出复杂决策，或者某些任务需要人类批准。LangGraph 支持这种“人类参与”的工作流，您可以在对话中加入人类审查。\n",
    "\n",
    "第4部分，主要展示了如何通过 LangGraph 进行多轮对话和工具调用，并且能够手动更新对话状态、插入工具调用的结果，之后继续执行对话。"
   ]
  },
  {
   "cell_type": "markdown",
   "id": "21516923",
   "metadata": {},
   "source": [
    "### 1. 编译图时添加中断\n",
    "\n"
   ]
  },
  {
   "cell_type": "markdown",
   "id": "22974e2c",
   "metadata": {},
   "source": [
    "我们可以通过 `interrupt_before` 参数，在工具节点执行之前中断对话，让人类有机会审查。\n",
    "\n",
    "\n",
    "**编译状态图**：\n",
    "   - `graph_builder.compile()` 用于编译状态图，生成可执行的 `CompiledGraph` 对象。\n",
    "   - `checkpointer=memory` 使用内存作为检查点保存对话状态。\n",
    "   - `interrupt_before=[\"tools\"]` 表示在执行 \"tools\" 节点之前中断，允许手动干预。"
   ]
  },
  {
   "cell_type": "code",
   "execution_count": 41,
   "id": "6a9dc7e7",
   "metadata": {},
   "outputs": [],
   "source": [
    "# 编译状态图，指定在工具节点之前进行中断\n",
    "graph = graph_builder.compile(\n",
    "    checkpointer=memory,  # 使用 MemorySaver 作为检查点系统\n",
    "    interrupt_before=[\"tools\"],  # 在进入 \"tools\" 节点前进行中断\n",
    ")"
   ]
  },
  {
   "cell_type": "code",
   "execution_count": 42,
   "id": "68c4a8ca-67cc-44a5-8ee3-3bb4167ae07b",
   "metadata": {},
   "outputs": [
    {
     "data": {
      "image/png": "[encoded data removed]",
      "text/plain": [
       "<IPython.core.display.Image object>"
      ]
     },
     "metadata": {},
     "output_type": "display_data"
    }
   ],
   "source": [
    "display(Image(graph.get_graph().draw_mermaid_png()))"
   ]
  },
  {
   "cell_type": "markdown",
   "id": "c7a29fe2",
   "metadata": {},
   "source": [
    "\n"
   ]
  },
  {
   "cell_type": "markdown",
   "id": "cc93cf40",
   "metadata": {},
   "source": [
    "### 2. 执行对话并在工具调用前中断\n",
    "\n"
   ]
  },
  {
   "cell_type": "markdown",
   "id": "12c06a58",
   "metadata": {},
   "source": [
    "我们现在来执行对话，并在工具节点之前进行中断，以便人类介入。\n",
    "\n"
   ]
  },
  {
   "cell_type": "code",
   "execution_count": 43,
   "id": "e9bc5112",
   "metadata": {},
   "outputs": [
    {
     "name": "stdout",
     "output_type": "stream",
     "text": [
      "================================\u001b[1m Human Message \u001b[0m=================================\n",
      "\n",
      "我正在学习LangGraph。你能帮我做一些研究吗？\n",
      "==================================\u001b[1m Ai Message \u001b[0m==================================\n",
      "\n",
      "当然，我很乐意帮助你研究LangGraph。它看起来是与自然语言处理（NLP）和图论相关的领域，可能涉及到使用图形结构来表示文本数据或语言模型中的关系。不过，为了给你提供更准确的信息，请告诉我你具体想了解LangGraph的哪些方面？例如：\n",
      "\n",
      "- LangGraph的基本概念\n",
      "- 它是如何工作的\n",
      "- 主要应用案例\n",
      "- 相关工具或库\n",
      "- 学习资源\n",
      "\n",
      "如果你有其他特定的问题或者需要探索的具体方向也请告诉我！如果不确定从哪里开始，我可以为你搜索一些关于LangGraph的基础信息。\n",
      "Tool Calls:\n",
      "  tavily_search_results_json (call_59c80500e29e4d09999c85)\n",
      " Call ID: call_59c80500e29e4d09999c85\n",
      "  Args:\n",
      "    query: LangGraph 基本概念 工作原理 应用案例 相关工具 学习资源\n"
     ]
    }
   ],
   "source": [
    "# 用户输入的消息\n",
    "user_input = \"我正在学习LangGraph。你能帮我做一些研究吗？\"\n",
    "# 配置新的对话线程 ID，用于保存和恢复对话状态\n",
    "config = {\"configurable\": {\"thread_id\": \"3\"}}\n",
    "\n",
    "# 使用 stream 方法处理用户输入并返回事件\n",
    "events = graph.stream(\n",
    "    {\"messages\": [(\"user\", user_input)]},\n",
    "    config,\n",
    "    stream_mode=\"values\"\n",
    ")\n",
    "\n",
    "# 遍历每个事件并输出最后一条消息的内容\n",
    "for event in events:\n",
    "    if \"messages\" in event:\n",
    "        event[\"messages\"][-1].pretty_print()  # 打印消息内容"
   ]
  },
  {
   "cell_type": "markdown",
   "id": "10ea1621",
   "metadata": {},
   "source": [
    "\n"
   ]
  },
  {
   "cell_type": "markdown",
   "id": "f6a7db0f",
   "metadata": {},
   "source": [
    "检查图的状态，确认已经中断。\n",
    "\n",
    "**获取状态快照**：\n",
    "   - 使用 `graph.get_state(config)` 获取当前对话的状态快照。\n",
    "   - `snapshot.next` 显示下一个将要执行的节点（在中断时为 \"tools\" 节点）。"
   ]
  },
  {
   "cell_type": "code",
   "execution_count": 44,
   "id": "3894534a",
   "metadata": {},
   "outputs": [
    {
     "data": {
      "text/plain": [
       "('tools',)"
      ]
     },
     "execution_count": 44,
     "metadata": {},
     "output_type": "execute_result"
    }
   ],
   "source": [
    "# 获取当前对话的状态快照\n",
    "snapshot = graph.get_state(config)\n",
    "# 查看快照中下一个要执行的节点\n",
    "snapshot.next"
   ]
  },
  {
   "cell_type": "markdown",
   "id": "448e17fc-9ebb-407c-8d8b-40c4dbb7f654",
   "metadata": {},
   "source": [
    "请注意，与上次不同，“下一个”节点被设置为'tools'。我们在这里中断了！让我们检查一下工具调用。"
   ]
  },
  {
   "cell_type": "code",
   "execution_count": 45,
   "id": "a568e527-28b7-412f-8a48-d22e4ad55d90",
   "metadata": {},
   "outputs": [
    {
     "data": {
      "text/plain": [
       "[{'name': 'tavily_search_results_json',\n",
       "  'args': {'query': 'LangGraph 基本概念 工作原理 应用案例 相关工具 学习资源'},\n",
       "  'id': 'call_59c80500e29e4d09999c85',\n",
       "  'type': 'tool_call'}]"
      ]
     },
     "execution_count": 45,
     "metadata": {},
     "output_type": "execute_result"
    }
   ],
   "source": [
    "existing_message = snapshot.values[\"messages\"][-1]\n",
    "existing_message.tool_calls"
   ]
  },
  {
   "cell_type": "markdown",
   "id": "95436842-b3fa-4e0e-80f9-eed3aaa8f709",
   "metadata": {},
   "source": [
    "这个查询看起来很合理。这里没有需要过滤的内容。人类能做的最简单的事情就是让图形继续执行。我们在下面这样做。\n",
    "\n",
    "**接下来，继续执行图！**\n",
    "\n",
    "传入 `None` 便是让图从它停止的地方继续，而不会向状态中添加任何新内容。"
   ]
  },
  {
   "cell_type": "code",
   "execution_count": 46,
   "id": "fd1c0708-cbf9-4040-8365-f2c162468689",
   "metadata": {},
   "outputs": [
    {
     "name": "stdout",
     "output_type": "stream",
     "text": [
      "==================================\u001b[1m Ai Message \u001b[0m==================================\n",
      "\n",
      "当然，我很乐意帮助你研究LangGraph。它看起来是与自然语言处理（NLP）和图论相关的领域，可能涉及到使用图形结构来表示文本数据或语言模型中的关系。不过，为了给你提供更准确的信息，请告诉我你具体想了解LangGraph的哪些方面？例如：\n",
      "\n",
      "- LangGraph的基本概念\n",
      "- 它是如何工作的\n",
      "- 主要应用案例\n",
      "- 相关工具或库\n",
      "- 学习资源\n",
      "\n",
      "如果你有其他特定的问题或者需要探索的具体方向也请告诉我！如果不确定从哪里开始，我可以为你搜索一些关于LangGraph的基础信息。\n",
      "Tool Calls:\n",
      "  tavily_search_results_json (call_59c80500e29e4d09999c85)\n",
      " Call ID: call_59c80500e29e4d09999c85\n",
      "  Args:\n",
      "    query: LangGraph 基本概念 工作原理 应用案例 相关工具 学习资源\n",
      "=================================\u001b[1m Tool Message \u001b[0m=================================\n",
      "Name: tavily_search_results_json\n",
      "\n",
      "[{\"title\": \"\\u4e00\\u6587\\u641e\\u61c2LangChain \\u65b0\\u5229\\u5668\\uff1aLangGraph \\u539f\\u521b - CSDN\\u535a\\u5ba2\", \"url\": \"https://blog.csdn.net/musicml/article/details/136441895\", \"content\": \"LangGraph \\u7684\\u5b9e\\u73b0\\u65b9\\u5f0f\\u662f\\u628a\\u4e4b\\u524d\\u57fa\\u4e8e AgentExecutor \\u7684\\u9ed1\\u76d2\\u8c03\\u7528\\u8fc7\\u7a0b\\uff0c\\u7528\\u4e00\\u79cd\\u65b0\\u7684\\u5f62\\u5f0f\\u6765\\u6784\\u5efa\\uff1a\\u72b6\\u6001\\u56fe\\uff08StateGraph\\uff09\\u3002\\u628a\\u57fa\\u4e8e LLM \\u7684\\u4efb\\u52a1\\uff08\\u6bd4\\u5982\\uff1aRAG\\u3001\\u4ee3\\u7801\\u751f\\u6210\\u7b49\\uff09\\u7ec6\\u8282\\u7528 Graph \\u8fdb\\u884c\\u7cbe\\u786e\\u7684\\u5b9a\\u4e49\\uff08\\u5b9a\\u4e49\\u56fe\\u7684\\u8282\\u70b9\\u4e0e\\u8fb9\\uff09\\uff0c\\u6700\\u540e\\u57fa\\u4e8e\\u8fd9\\u4e2a\\u56fe\\u6765\\u7f16\\u8bd1\\u751f\\u6210\\u5e94\\u7528\\u3002\\u5728\\u4efb\\u52a1\\u8fd0\\u884c\\u8fc7\\u7a0b\\u4e2d\\uff0c\\u7ef4\\u6301\\u4e00\\u4e2a\\u4e2d\\u592e\\u72b6\\u6001\\u5bf9\\u8c61(state)\\uff0c\\u4f1a\\u6839\\u636e\\u8282\\u70b9\\u7684\\u8df3\\u8f6c\\u4e0d\\u65ad\\u66f4\\u65b0\\uff0c\\u72b6\\u6001\\u5305\\u542b\\u7684\\u5c5e\\u6027\\u53ef\\u81ea\\u884c\\u5b9a\\u4e49\\u3002\\n\\n\\u6211\\u4eec\\u4e00\\u8d77\\u5256\\u6790\\u4e0b\\u5b98\\u65b9 RAG \\u5e94\\u7528\\u7684 Graph \\u6848\\u4f8b\\uff0c\\u5982\\u4e0b\\u56fe\\u6240\\u793a\\uff0c\\u4ece\\u800c\\u66f4\\u597d\\u7406\\u89e3 LangGraph\\u3002\\n\\nImage 14: a483b43a860c7e8d4bbdb472d91be190.png\\n\\n\\u4e0a\\u56fe RAG Graph \\u4e2d\\u4f53\\u73b0\\u4e86 LangGraph \\u7684\\u51e0\\u4e2a\\u57fa\\u672c\\u6982\\u5ff5\\uff1a\\n\\n   StateGraph\\uff1a\\u4ee3\\u8868\\u6574\\u4e2a\\u72b6\\u6001\\u56fe\\u7684\\u57fa\\u7840\\u7c7b\\u3002\\n\\n   Nodes\\uff1a\\u8282\\u70b9\\u3002\\u6709\\u4e86\\u56fe\\u4e4b\\u540e\\uff0c\\u53ef\\u4ee5\\u5411\\u56fe\\u4e2d\\u6dfb\\u52a0\\u8282\\u70b9\\uff0c\\u8282\\u70b9\\u901a\\u5e38\\u662f\\u4e00\\u4e2a\\u53ef\\u8c03\\u7528\\u7684\\u51fd\\u6570\\u3001\\u4e00\\u4e2a\\u53ef\\u8fd0\\u884c\\u7684 Chain \\u6216 Agent\\u3002\\u6709\\u4e00\\u4e2a\\u7279\\u6b8a\\u7684\\u8282\\u70b9\\u53ebEND\\uff0c\\u8fdb\\u5165\\u8fd9\\u4e2a\\u8282\\u70b9\\uff0c\\u4ee3\\u8868\\u8fd0\\u884c\\u7ed3\\u675f\\u3002 [...] \\u6a21\\u5757\\u5316\\u96c6\\u6210\\u4e0e\\u591a\\u8f6e\\u5bf9\\u8bdd\\u7ba1\\u7406\\u3002\\u524d\\u8005\\u901a\\u8fc7\\u6807\\u51c6\\u5316\\u63a5\\u53e3\\u7b80\\u5316\\u5de5\\u5177\\u94fe\\u7ec4\\u5408\\uff0c\\u540e\\u8005\\u901a\\u8fc7\\u56fe\\u7ed3\\u6784\\u5efa\\u6a21\\u786e\\u4fdd\\u5bf9\\u8bdd\\u8fde\\u8d2f\\u6027\\u3002\\u4e8c\\u8005\\u7684\\u6280\\u672f\\u5dee\\u5f02\\u4f53\\u73b0\\u5728\\u67b6\\u6784\\u8bbe\\u8ba1\\uff08\\u94fe\\u5f0f vs. \\u56fe\\u72b6\\uff09\\u3001\\u72b6\\u6001\\u7ba1\\u7406\\u65b9\\u5f0f\\uff08\\u5355\\u6b21\\u4f20\\u9012 vs. \\u5168\\u5c40\\u7ef4\\u62a4\\uff09\\u548c\\u9002\\u7528\\u573a\\u666f\\uff08\\u5355\\u4efb\\u52a1\\u6d41\\u7a0b vs. \\u591a\\u8f6e\\u4ea4\\u4e92\\uff09\\u3002\\u5b9e\\u9645\\u5f00\\u53d1\\u4e2d\\uff0c\\u5f00\\u53d1\\u8005\\u53ef\\u6839\\u636e\\u9700\\u6c42\\u5355\\u72ec\\u4f7f\\u7528\\u6216\\u6df7\\u5408\\u96c6\\u6210\\uff0c\\u4f8b\\u5982\\u7528 _LangChain_ \\u6784\\u5efa\\u884c\\u7a0b\\u89c4\\u5212\\u5de5\\u5177\\u94fe\\uff0c\\u518d\\u901a\\u8fc7 _LangGraph_ \\u5b9e\\u73b0\\u7528\\u6237\\u8ffd\\u95ee\\u65f6\\u7684\\u4e0a\\u4e0b\\u6587\\u5ef6\\u7eed\\u3002\\u8fd9\\u4e00\\u4e92\\u8865\\u5173\\u7cfb\\u4e3a\\u6784\\u5efa\\u4e0b\\u4e00\\u4ee3\\u667a\\u80fd\\u5e94\\u7528\\u63d0\\u4f9b\\u4e86\\u7075\\u6d3b\\u7684\\u6280\\u672f\\u57fa\\u7840\\u3002\\n\\n_langchain_ \\u7cfb\\u5217\\uff08\\u516d\\uff09- _LangGraph_ \\u5165\\u95e8\\u4ee5\\u53ca\\u4ecb\\u7ecd\\n\\nforevercui\\u7684\\u535a\\u5ba2\\n\\n02-26Image 55 1921 \\n\\n_LangGraph_ \\u7684\\u57fa\\u672c\\u539f\\u7406\\u4ee5\\u53ca\\u8be6\\u7ec6\\u4ecb\\u7ecd\\uff0c\\u57fa\\u672c\\u6982\\u5ff5\\u8bf4\\u660e\\uff0c\\u6d41\\u7a0b\\u8be6\\u89e3\\uff0c\\u4ee3\\u7801\\u793a\\u4f8b\\n\\n_Langgraph_ \\u5c0f\\u5165\\u95e8\\n\\nxnuscd\\u7684\\u535a\\u5ba2\\n\\n11-04Image 56 2113 [...] \\u9996\\u5148\\u4e0b\\u8f7d\\u4e0a\\u9762\\u7ed9\\u51fa\\u7684github\\u9879\\u76ee\\u5e76\\u5b89\\u88c5\\u73af\\u5883\\uff0c\\u7136\\u540e\\u60f3\\u60f3\\u8981\\u6d4b\\u8bd5\\u4ec0\\u4e48\\u95ee\\u9898\\u3002\\u8bf7\\u95ee\\u4e0b\\u9762\\u8fd9\\u4e2a\\u5b57\\u7b26\\u4e32\\u7684\\u957f\\u5ea6\\u7684\\u4e09\\u6b21\\u5e42\\u662f\\u51e0\\uff1aXXX\\uff0c\\u7406\\u60f3\\u60c5\\u51b5\\u4e0b\\uff0cAgent\\u52a0\\u6301\\u7684\\u5927\\u6a21\\u578b\\u4f1a\\u5206\\u6790\\u51fa\\u9700\\u8981\\u8c03\\u7528\\u83b7\\u53d6\\u5b57\\u7b26\\u4e32\\u957f\\u5ea6\\u548c\\u8ba1\\u7b97\\u4e09\\u6b21\\u5e42\\u8fd9\\u4e24\\u4e2a\\u5de5\\u5177\\uff0c\\u7136\\u540e\\u8fde\\u7eed\\u8c03\\u7528\\u5b83\\u4eec\\u5f97\\u5230\\u6b63\\u786e\\u7684\\u7ed3\\u679c\\u3002\\u6240\\u4ee5\\u7b2c\\u4e00\\u6b65\\u5c31\\u662f\\u8981\\u628a\\u8fd9\\u4e24\\u4e2a\\u5de5\\u5177\\u5b9a\\u4e49\\u597d\\uff0c\\u5728\\u8fd9\\u4e2a\\u9879\\u76ee\\u91cc\\uff0c\\u53ea\\u8981\\u5728Tool\\u6587\\u4ef6\\u5939\\u4e0b\\u5b9a\\u4e49\\u597dxxx.py\\u548cxxx.yaml\\u8fd9\\u4e24\\u4e2a\\u6587\\u4ef6\\uff0cxxx\\u8fd9\\u4e2a\\u5de5\\u5177\\u5c31\\u7b97\\u53ef\\u4ee5\\u4f7f\\u7528\\u4e86\\uff0c\\u6211\\u4eec\\u5bf9\\u8fd9\\u4e24\\u4e2a\\u5de5\\u5177\\u7684\\u5b9a\\u4e49\\u5982\\u4e0b\\uff0c\\u6ce8\\u610f\\u8fd9\\u4e9b\\u5de5\\u5177\\u7684\\u8f93\\u5165\\u548c\\u8f93\\u51fa\\u90fd\\u5f97\\u662f\\u5b57\\u7b26\\u4e32\\u3002\\n\\n\\u5f7b\\u5e95 _\\u641e\\u61c2_ _LangGraph_\\u30101\\u3011\\uff1a\\u6784\\u5efa\\u590d\\u6742\\u667a\\u80fd\\u4f53\\u5e94\\u7528\\u7684 _LangChain_ _\\u65b0_ _\\u5229\\u5668_\\n\\njuan9872\\u7684\\u535a\\u5ba2\\n\\n04-12Image 42 1\\u4e07+ \\n\\n\\u56fe\\u662f\\u8ba1\\u7b97\\u673a\\u79d1\\u5b66\\u4e2d\\u7684\\u4e00\\u79cd\\u6570\\u636e\\u7ed3\\u6784\\u3002\\u5927\\u90e8\\u5206\\u4eba\\u53ef\\u80fd\\u90fd\\u63a5\\u89e6\\u8fc7\\u4e00\\u4e9b\\u57fa\\u672c\\u7684\\u6570\\u636e\\u7ed3\\u6784\\uff0c\\u6bd4\\u5982\\u961f\\u5217\\uff08Queue\\uff09\\u3001\\u5806\\u6808\\uff08Stack\\uff09\\u3001\\u94fe\\u8868\\uff08List\\uff09\\u6216\\u8005\\u6811\\uff08Tree\\uff09\\u7b49\\uff0c\\u56fe\\uff08Graph\\uff09\\u4e5f\\u662f\\u5176\\u4e2d\\u7684\\u4e00\\u79cd\\u76f8\\u5bf9\\u590d\\u6742\\u7684\\u6570\\u636e\\u7ed3\\u6784\\u3002\\n\\n_LangGraph_ _:_ \\u6784\\u5efa\\u591a\\u4ee3\\u7406\\u52a8\\u6001\\u5de5\\u4f5c\\u6d41\\u7684\\u5f00\\u6e90\\u6846\\u67b6,\\u652f\\u6301\\u4eba\\u5de5\\u5e72\\u9884\\u3001\\u5faa\\u73af\\u3001\\u6301\\u4e45\\u6027...\\n\\n5-24\", \"score\": 0.77873385}]\n",
      "==================================\u001b[1m Ai Message \u001b[0m==================================\n",
      "\n",
      "根据搜索结果，LangGraph 是一个基于 LangChain 的新工具，它使用图结构来构建自然语言处理任务。下面是关于 LangGraph 的一些关键点：\n",
      "\n",
      "- **StateGraph**：代表整个状态图的基础类。\n",
      "- **Nodes**：节点。在图中可以添加节点，这些节点通常是可调用的函数、可运行的 Chain 或 Agent。还有一个特殊的节点叫做 END，进入这个节点意味着执行结束。\n",
      "\n",
      "LangGraph 主要用于定义和执行基于大模型的任务（如检索增强生成 RAG、代码生成等）。通过将这些任务分解为图中的节点与边，能够更精确地控制流程，并且维护全局状态。这使得 LangGraph 特别适合于需要多轮对话或上下文持续性的应用场景。\n",
      "\n",
      "### 基本概念\n",
      "- **状态图 (StateGraph)**：是程序运行时的状态表示。\n",
      "- **节点 (Nodes)**：代表不同的处理步骤或功能单元。\n",
      "- **边 (Edges)**：连接节点，表示从一个状态到另一个状态的转换。\n",
      "\n",
      "### 工作原理\n",
      "LangGraph 通过将复杂的 NLP 流程建模成图形结构，允许开发者清晰地定义每个阶段的功能以及它们之间的依赖关系。这种设计有助于模块化集成和多轮对话管理。\n",
      "\n",
      "### 应用案例\n",
      "- 检索增强生成 (RAG)：利用大型语言模型进行信息检索并生成文本。\n",
      "- 多轮对话系统：保持会话连续性，支持复杂的用户交互。\n",
      "\n",
      "### 相关工具\n",
      "- LangChain：作为 LangGraph 的基础框架，提供了一系列链式操作工具。\n",
      "- 大型语言模型 (LLM)：例如 GPT 系列或其他预训练模型，作为核心推理引擎。\n",
      "\n",
      "### 学习资源\n",
      "看起来有一些博客文章详细介绍了 LangGraph 的入门指南及其具体实现细节。如果你对中文资料感兴趣，这里有一个 CSDN 博客链接提供了进一步的信息：\n",
      "- [一篇搞懂LangChain 新利器：LangGraph - CSDN博客](https://blog.csdn.net/musicml/article/details/136441895)\n",
      "\n",
      "此外，GitHub 上可能也有相关的项目源码和示例，你可以查看官方文档或者相关开源项目以获得更多信息。\n",
      "\n",
      "如果需要更详细的教程或特定方面的帮助，请告诉我，我可以继续为你查找相关信息。\n"
     ]
    }
   ],
   "source": [
    "events = graph.stream(None, config, stream_mode=\"values\")\n",
    "for event in events:\n",
    "    if \"messages\" in event:\n",
    "        event[\"messages\"][-1].pretty_print()"
   ]
  },
  {
   "cell_type": "code",
   "execution_count": null,
   "id": "6db4ea6f-15cf-44b8-a47f-3c69a7943ec2",
   "metadata": {},
   "outputs": [],
   "source": []
  },
  {
   "cell_type": "markdown",
   "id": "347b87fc",
   "metadata": {},
   "source": [
    "### 3. 人工介入，修改工具执行结果"
   ]
  },
  {
   "cell_type": "markdown",
   "id": "7365a2b7",
   "metadata": {},
   "source": [
    "我们直接使用人工定义的内容，作为工具的返回结果。\n",
    "\n",
    "**手动插入工具调用结果**：\n",
    "   - 创建一个 `ToolMessage` 消息对象，内容是手动提供的工具调用结果，如 `\"LangGraph 是一个用于构建状态化、多参与者应用的库\"`。\n",
    "   - `tool_call_id` 使用之前的工具调用 ID 来关联这个工具调用消息。\n",
    "\n",
    "**更新状态**：\n",
    "   - 通过 `graph.update_state(config, {\"messages\": [tool_message]})` 手动更新对话状态，插入新的工具调用结果。\n",
    "\n",
    "**继续执行对话**：\n",
    "   - 使用 `graph.stream(None, config)` 继续执行对话，处理工具调用后的节点。\n",
    "   - 打印后续生成的消息，显示机器人对工具调用结果的响应。\n",
    "\n",
    "**工具调用最终输出是人工手动输入的内容**"
   ]
  },
  {
   "cell_type": "code",
   "execution_count": 47,
   "id": "c95a79df",
   "metadata": {},
   "outputs": [
    {
     "name": "stdout",
     "output_type": "stream",
     "text": [
      "=================================\u001b[1m Tool Message \u001b[0m=================================\n",
      "\n",
      "LangGraph 是一个用于构建状态化、多参与者应用的库。\n"
     ]
    }
   ],
   "source": [
    "# 手动生成一个工具调用的消息，并更新到对话状态中\n",
    "tool_message = ToolMessage(\n",
    "    content=\"LangGraph 是一个用于构建状态化、多参与者应用的库。\",  # 工具调用返回的内容\n",
    "    tool_call_id=snapshot.values[\"messages\"][-1].tool_calls[0][\"id\"]  # 关联工具调用的 ID\n",
    ")\n",
    "\n",
    "# 更新对话状态，加入工具调用的结果\n",
    "graph.update_state(config, {\"messages\": [tool_message]})\n",
    "\n",
    "# 继续执行对话，查看工具调用后的后续处理\n",
    "events = graph.stream(None, config, stream_mode=\"values\")\n",
    "\n",
    "for event in events:\n",
    "    event[\"messages\"][-1].pretty_print()  # 打印后续生成的消息内容"
   ]
  },
  {
   "cell_type": "markdown",
   "id": "5bbdf42b",
   "metadata": {},
   "source": [
    "---------\n",
    "\n",
    "## 第5部分： 查看 ChatBot 历史对话\n",
    "\n",
    "在 LangGraph 中，可以使用 `graph.get_state_history()` 来获取对话的所有历史状态。\n",
    "\n",
    "传入参数：`{\"configurable\": {\"thread_id\": \"1\"}}`，可以获取指定线程的对话状态。\n",
    "\n",
    "```python\n",
    "# 获取指定线程 ID 的所有历史状态\n",
    "history = graph.get_state_history({\"configurable\": {\"thread_id\": \"1\"}})\n",
    "\n",
    "# 遍历历史记录，打印每个状态中的所有消息\n",
    "for state in history:\n",
    "    print(\"=== 对话历史 ===\")\n",
    "    # 遍历每个状态中的消息记录\n",
    "    for message in state.values[\"messages\"]:\n",
    "        if isinstance(message, BaseMessage):\n",
    "            # 根据消息类型区分用户与机器人\n",
    "            if \"user\" in message.content.lower():\n",
    "                print(f\"User: {message.content}\")\n",
    "            else:\n",
    "                print(f\"Assistant: {message.content}\")\n",
    "```\n",
    "\n",
    "\n",
    "### **为什么不用 events 获取历史？**\n",
    "\n",
    "如果您使用 events，每次调用 graph.stream() 时，您只能获取当前的对话步骤，而不是之前的对话记录。要保留对话历史，您需要在每次获取 events 时将结果手动保存，这样会增加复杂度。\n",
    "\n",
    "\n",
    "### 对话历史去重\n",
    "\n",
    "直接运行上面的代码，可能会出现重复的对话历史。\n",
    "\n",
    "- **问题来源**：重复的状态快照和无消息的中间状态导致了多次重复的对话历史和空对话历史。\n",
    "\n",
    "为了处理这些问题，我们可以引入更严格的过滤条件，并确保只打印那些包含**新消息**或有效消息的状态。\n",
    "\n",
    "- **解决方案**：通过检查消息类型和 ID 来过滤无效和重复的消息，并只输出真正包含对话内容的状态快照。\n",
    "\n",
    "### 代码解析\n",
    "\n",
    "1. **`valid_messages` 列表**：这段代码检查每条消息是否是 `BaseMessage` 类型，同时确保该消息之前没有被处理过。如果消息符合这些条件，则被视为有效消息。\n",
    "\n",
    "2. **输出条件**：只有当存在有效消息时，才打印 `=== 对话历史 ===`，否则打印 `=== 空对话历史（无有效消息） ===`。\n",
    "\n",
    "3. **避免重复输出**：通过 `seen_message_ids` 集合来存储已经处理过的消息 ID，确保每条消息只被打印一次，防止重复输出。"
   ]
  },
  {
   "cell_type": "code",
   "execution_count": 48,
   "id": "f8e2fe74-4dd8-4cd8-9b30-2a34efaf53da",
   "metadata": {},
   "outputs": [
    {
     "name": "stdout",
     "output_type": "stream",
     "text": [
      "=== 对话历史 ===\n",
      "Assistant: 我正在学习LangGraph。你能帮我做一些研究吗？\n",
      "Assistant: 当然，我很乐意帮助你研究LangGraph。它看起来是与自然语言处理（NLP）和图论相关的领域，可能涉及到使用图形结构来表示文本数据或语言模型中的关系。不过，为了给你提供更准确的信息，请告诉我你具体想了解LangGraph的哪些方面？例如：\n",
      "\n",
      "- LangGraph的基本概念\n",
      "- 它是如何工作的\n",
      "- 主要应用案例\n",
      "- 相关工具或库\n",
      "- 学习资源\n",
      "\n",
      "如果你有其他特定的问题或者需要探索的具体方向也请告诉我！如果不确定从哪里开始，我可以为你搜索一些关于LangGraph的基础信息。\n",
      "Assistant: [{\"title\": \"\\u4e00\\u6587\\u641e\\u61c2LangChain \\u65b0\\u5229\\u5668\\uff1aLangGraph \\u539f\\u521b - CSDN\\u535a\\u5ba2\", \"url\": \"https://blog.csdn.net/musicml/article/details/136441895\", \"content\": \"LangGraph \\u7684\\u5b9e\\u73b0\\u65b9\\u5f0f\\u662f\\u628a\\u4e4b\\u524d\\u57fa\\u4e8e AgentExecutor \\u7684\\u9ed1\\u76d2\\u8c03\\u7528\\u8fc7\\u7a0b\\uff0c\\u7528\\u4e00\\u79cd\\u65b0\\u7684\\u5f62\\u5f0f\\u6765\\u6784\\u5efa\\uff1a\\u72b6\\u6001\\u56fe\\uff08StateGraph\\uff09\\u3002\\u628a\\u57fa\\u4e8e LLM \\u7684\\u4efb\\u52a1\\uff08\\u6bd4\\u5982\\uff1aRAG\\u3001\\u4ee3\\u7801\\u751f\\u6210\\u7b49\\uff09\\u7ec6\\u8282\\u7528 Graph \\u8fdb\\u884c\\u7cbe\\u786e\\u7684\\u5b9a\\u4e49\\uff08\\u5b9a\\u4e49\\u56fe\\u7684\\u8282\\u70b9\\u4e0e\\u8fb9\\uff09\\uff0c\\u6700\\u540e\\u57fa\\u4e8e\\u8fd9\\u4e2a\\u56fe\\u6765\\u7f16\\u8bd1\\u751f\\u6210\\u5e94\\u7528\\u3002\\u5728\\u4efb\\u52a1\\u8fd0\\u884c\\u8fc7\\u7a0b\\u4e2d\\uff0c\\u7ef4\\u6301\\u4e00\\u4e2a\\u4e2d\\u592e\\u72b6\\u6001\\u5bf9\\u8c61(state)\\uff0c\\u4f1a\\u6839\\u636e\\u8282\\u70b9\\u7684\\u8df3\\u8f6c\\u4e0d\\u65ad\\u66f4\\u65b0\\uff0c\\u72b6\\u6001\\u5305\\u542b\\u7684\\u5c5e\\u6027\\u53ef\\u81ea\\u884c\\u5b9a\\u4e49\\u3002\\n\\n\\u6211\\u4eec\\u4e00\\u8d77\\u5256\\u6790\\u4e0b\\u5b98\\u65b9 RAG \\u5e94\\u7528\\u7684 Graph \\u6848\\u4f8b\\uff0c\\u5982\\u4e0b\\u56fe\\u6240\\u793a\\uff0c\\u4ece\\u800c\\u66f4\\u597d\\u7406\\u89e3 LangGraph\\u3002\\n\\nImage 14: a483b43a860c7e8d4bbdb472d91be190.png\\n\\n\\u4e0a\\u56fe RAG Graph \\u4e2d\\u4f53\\u73b0\\u4e86 LangGraph \\u7684\\u51e0\\u4e2a\\u57fa\\u672c\\u6982\\u5ff5\\uff1a\\n\\n   StateGraph\\uff1a\\u4ee3\\u8868\\u6574\\u4e2a\\u72b6\\u6001\\u56fe\\u7684\\u57fa\\u7840\\u7c7b\\u3002\\n\\n   Nodes\\uff1a\\u8282\\u70b9\\u3002\\u6709\\u4e86\\u56fe\\u4e4b\\u540e\\uff0c\\u53ef\\u4ee5\\u5411\\u56fe\\u4e2d\\u6dfb\\u52a0\\u8282\\u70b9\\uff0c\\u8282\\u70b9\\u901a\\u5e38\\u662f\\u4e00\\u4e2a\\u53ef\\u8c03\\u7528\\u7684\\u51fd\\u6570\\u3001\\u4e00\\u4e2a\\u53ef\\u8fd0\\u884c\\u7684 Chain \\u6216 Agent\\u3002\\u6709\\u4e00\\u4e2a\\u7279\\u6b8a\\u7684\\u8282\\u70b9\\u53ebEND\\uff0c\\u8fdb\\u5165\\u8fd9\\u4e2a\\u8282\\u70b9\\uff0c\\u4ee3\\u8868\\u8fd0\\u884c\\u7ed3\\u675f\\u3002 [...] \\u6a21\\u5757\\u5316\\u96c6\\u6210\\u4e0e\\u591a\\u8f6e\\u5bf9\\u8bdd\\u7ba1\\u7406\\u3002\\u524d\\u8005\\u901a\\u8fc7\\u6807\\u51c6\\u5316\\u63a5\\u53e3\\u7b80\\u5316\\u5de5\\u5177\\u94fe\\u7ec4\\u5408\\uff0c\\u540e\\u8005\\u901a\\u8fc7\\u56fe\\u7ed3\\u6784\\u5efa\\u6a21\\u786e\\u4fdd\\u5bf9\\u8bdd\\u8fde\\u8d2f\\u6027\\u3002\\u4e8c\\u8005\\u7684\\u6280\\u672f\\u5dee\\u5f02\\u4f53\\u73b0\\u5728\\u67b6\\u6784\\u8bbe\\u8ba1\\uff08\\u94fe\\u5f0f vs. \\u56fe\\u72b6\\uff09\\u3001\\u72b6\\u6001\\u7ba1\\u7406\\u65b9\\u5f0f\\uff08\\u5355\\u6b21\\u4f20\\u9012 vs. \\u5168\\u5c40\\u7ef4\\u62a4\\uff09\\u548c\\u9002\\u7528\\u573a\\u666f\\uff08\\u5355\\u4efb\\u52a1\\u6d41\\u7a0b vs. \\u591a\\u8f6e\\u4ea4\\u4e92\\uff09\\u3002\\u5b9e\\u9645\\u5f00\\u53d1\\u4e2d\\uff0c\\u5f00\\u53d1\\u8005\\u53ef\\u6839\\u636e\\u9700\\u6c42\\u5355\\u72ec\\u4f7f\\u7528\\u6216\\u6df7\\u5408\\u96c6\\u6210\\uff0c\\u4f8b\\u5982\\u7528 _LangChain_ \\u6784\\u5efa\\u884c\\u7a0b\\u89c4\\u5212\\u5de5\\u5177\\u94fe\\uff0c\\u518d\\u901a\\u8fc7 _LangGraph_ \\u5b9e\\u73b0\\u7528\\u6237\\u8ffd\\u95ee\\u65f6\\u7684\\u4e0a\\u4e0b\\u6587\\u5ef6\\u7eed\\u3002\\u8fd9\\u4e00\\u4e92\\u8865\\u5173\\u7cfb\\u4e3a\\u6784\\u5efa\\u4e0b\\u4e00\\u4ee3\\u667a\\u80fd\\u5e94\\u7528\\u63d0\\u4f9b\\u4e86\\u7075\\u6d3b\\u7684\\u6280\\u672f\\u57fa\\u7840\\u3002\\n\\n_langchain_ \\u7cfb\\u5217\\uff08\\u516d\\uff09- _LangGraph_ \\u5165\\u95e8\\u4ee5\\u53ca\\u4ecb\\u7ecd\\n\\nforevercui\\u7684\\u535a\\u5ba2\\n\\n02-26Image 55 1921 \\n\\n_LangGraph_ \\u7684\\u57fa\\u672c\\u539f\\u7406\\u4ee5\\u53ca\\u8be6\\u7ec6\\u4ecb\\u7ecd\\uff0c\\u57fa\\u672c\\u6982\\u5ff5\\u8bf4\\u660e\\uff0c\\u6d41\\u7a0b\\u8be6\\u89e3\\uff0c\\u4ee3\\u7801\\u793a\\u4f8b\\n\\n_Langgraph_ \\u5c0f\\u5165\\u95e8\\n\\nxnuscd\\u7684\\u535a\\u5ba2\\n\\n11-04Image 56 2113 [...] \\u9996\\u5148\\u4e0b\\u8f7d\\u4e0a\\u9762\\u7ed9\\u51fa\\u7684github\\u9879\\u76ee\\u5e76\\u5b89\\u88c5\\u73af\\u5883\\uff0c\\u7136\\u540e\\u60f3\\u60f3\\u8981\\u6d4b\\u8bd5\\u4ec0\\u4e48\\u95ee\\u9898\\u3002\\u8bf7\\u95ee\\u4e0b\\u9762\\u8fd9\\u4e2a\\u5b57\\u7b26\\u4e32\\u7684\\u957f\\u5ea6\\u7684\\u4e09\\u6b21\\u5e42\\u662f\\u51e0\\uff1aXXX\\uff0c\\u7406\\u60f3\\u60c5\\u51b5\\u4e0b\\uff0cAgent\\u52a0\\u6301\\u7684\\u5927\\u6a21\\u578b\\u4f1a\\u5206\\u6790\\u51fa\\u9700\\u8981\\u8c03\\u7528\\u83b7\\u53d6\\u5b57\\u7b26\\u4e32\\u957f\\u5ea6\\u548c\\u8ba1\\u7b97\\u4e09\\u6b21\\u5e42\\u8fd9\\u4e24\\u4e2a\\u5de5\\u5177\\uff0c\\u7136\\u540e\\u8fde\\u7eed\\u8c03\\u7528\\u5b83\\u4eec\\u5f97\\u5230\\u6b63\\u786e\\u7684\\u7ed3\\u679c\\u3002\\u6240\\u4ee5\\u7b2c\\u4e00\\u6b65\\u5c31\\u662f\\u8981\\u628a\\u8fd9\\u4e24\\u4e2a\\u5de5\\u5177\\u5b9a\\u4e49\\u597d\\uff0c\\u5728\\u8fd9\\u4e2a\\u9879\\u76ee\\u91cc\\uff0c\\u53ea\\u8981\\u5728Tool\\u6587\\u4ef6\\u5939\\u4e0b\\u5b9a\\u4e49\\u597dxxx.py\\u548cxxx.yaml\\u8fd9\\u4e24\\u4e2a\\u6587\\u4ef6\\uff0cxxx\\u8fd9\\u4e2a\\u5de5\\u5177\\u5c31\\u7b97\\u53ef\\u4ee5\\u4f7f\\u7528\\u4e86\\uff0c\\u6211\\u4eec\\u5bf9\\u8fd9\\u4e24\\u4e2a\\u5de5\\u5177\\u7684\\u5b9a\\u4e49\\u5982\\u4e0b\\uff0c\\u6ce8\\u610f\\u8fd9\\u4e9b\\u5de5\\u5177\\u7684\\u8f93\\u5165\\u548c\\u8f93\\u51fa\\u90fd\\u5f97\\u662f\\u5b57\\u7b26\\u4e32\\u3002\\n\\n\\u5f7b\\u5e95 _\\u641e\\u61c2_ _LangGraph_\\u30101\\u3011\\uff1a\\u6784\\u5efa\\u590d\\u6742\\u667a\\u80fd\\u4f53\\u5e94\\u7528\\u7684 _LangChain_ _\\u65b0_ _\\u5229\\u5668_\\n\\njuan9872\\u7684\\u535a\\u5ba2\\n\\n04-12Image 42 1\\u4e07+ \\n\\n\\u56fe\\u662f\\u8ba1\\u7b97\\u673a\\u79d1\\u5b66\\u4e2d\\u7684\\u4e00\\u79cd\\u6570\\u636e\\u7ed3\\u6784\\u3002\\u5927\\u90e8\\u5206\\u4eba\\u53ef\\u80fd\\u90fd\\u63a5\\u89e6\\u8fc7\\u4e00\\u4e9b\\u57fa\\u672c\\u7684\\u6570\\u636e\\u7ed3\\u6784\\uff0c\\u6bd4\\u5982\\u961f\\u5217\\uff08Queue\\uff09\\u3001\\u5806\\u6808\\uff08Stack\\uff09\\u3001\\u94fe\\u8868\\uff08List\\uff09\\u6216\\u8005\\u6811\\uff08Tree\\uff09\\u7b49\\uff0c\\u56fe\\uff08Graph\\uff09\\u4e5f\\u662f\\u5176\\u4e2d\\u7684\\u4e00\\u79cd\\u76f8\\u5bf9\\u590d\\u6742\\u7684\\u6570\\u636e\\u7ed3\\u6784\\u3002\\n\\n_LangGraph_ _:_ \\u6784\\u5efa\\u591a\\u4ee3\\u7406\\u52a8\\u6001\\u5de5\\u4f5c\\u6d41\\u7684\\u5f00\\u6e90\\u6846\\u67b6,\\u652f\\u6301\\u4eba\\u5de5\\u5e72\\u9884\\u3001\\u5faa\\u73af\\u3001\\u6301\\u4e45\\u6027...\\n\\n5-24\", \"score\": 0.77873385}]\n",
      "Assistant: 根据搜索结果，LangGraph 是一个基于 LangChain 的新工具，它使用图结构来构建自然语言处理任务。下面是关于 LangGraph 的一些关键点：\n",
      "\n",
      "- **StateGraph**：代表整个状态图的基础类。\n",
      "- **Nodes**：节点。在图中可以添加节点，这些节点通常是可调用的函数、可运行的 Chain 或 Agent。还有一个特殊的节点叫做 END，进入这个节点意味着执行结束。\n",
      "\n",
      "LangGraph 主要用于定义和执行基于大模型的任务（如检索增强生成 RAG、代码生成等）。通过将这些任务分解为图中的节点与边，能够更精确地控制流程，并且维护全局状态。这使得 LangGraph 特别适合于需要多轮对话或上下文持续性的应用场景。\n",
      "\n",
      "### 基本概念\n",
      "- **状态图 (StateGraph)**：是程序运行时的状态表示。\n",
      "- **节点 (Nodes)**：代表不同的处理步骤或功能单元。\n",
      "- **边 (Edges)**：连接节点，表示从一个状态到另一个状态的转换。\n",
      "\n",
      "### 工作原理\n",
      "LangGraph 通过将复杂的 NLP 流程建模成图形结构，允许开发者清晰地定义每个阶段的功能以及它们之间的依赖关系。这种设计有助于模块化集成和多轮对话管理。\n",
      "\n",
      "### 应用案例\n",
      "- 检索增强生成 (RAG)：利用大型语言模型进行信息检索并生成文本。\n",
      "- 多轮对话系统：保持会话连续性，支持复杂的用户交互。\n",
      "\n",
      "### 相关工具\n",
      "- LangChain：作为 LangGraph 的基础框架，提供了一系列链式操作工具。\n",
      "- 大型语言模型 (LLM)：例如 GPT 系列或其他预训练模型，作为核心推理引擎。\n",
      "\n",
      "### 学习资源\n",
      "看起来有一些博客文章详细介绍了 LangGraph 的入门指南及其具体实现细节。如果你对中文资料感兴趣，这里有一个 CSDN 博客链接提供了进一步的信息：\n",
      "- [一篇搞懂LangChain 新利器：LangGraph - CSDN博客](https://blog.csdn.net/musicml/article/details/136441895)\n",
      "\n",
      "此外，GitHub 上可能也有相关的项目源码和示例，你可以查看官方文档或者相关开源项目以获得更多信息。\n",
      "\n",
      "如果需要更详细的教程或特定方面的帮助，请告诉我，我可以继续为你查找相关信息。\n",
      "Assistant: LangGraph 是一个用于构建状态化、多参与者应用的库。\n",
      "=== 空对话历史（无有效消息） ===\n",
      "=== 空对话历史（无有效消息） ===\n",
      "=== 空对话历史（无有效消息） ===\n",
      "=== 空对话历史（无有效消息） ===\n",
      "=== 空对话历史（无有效消息） ===\n"
     ]
    }
   ],
   "source": [
    "# 获取指定线程 ID 的所有历史状态\n",
    "history = graph.get_state_history({\"configurable\": {\"thread_id\": \"3\"}})\n",
    "\n",
    "# 使用集合存储已处理过的消息 ID\n",
    "seen_message_ids = set()\n",
    "\n",
    "# 遍历历史记录，打印每个状态中的所有消息\n",
    "for state in history:\n",
    "    # 获取状态中的消息列表\n",
    "    messages = state.values.get(\"messages\", [])\n",
    "    \n",
    "    # 检查是否存在至少一条未处理的 BaseMessage 类型的消息\n",
    "    valid_messages = [msg for msg in messages if isinstance(msg, BaseMessage) and msg.id not in seen_message_ids]\n",
    "    \n",
    "    if valid_messages:\n",
    "        print(\"=== 对话历史 ===\")\n",
    "        for message in valid_messages:\n",
    "            seen_message_ids.add(message.id)  # 记录消息 ID，避免重复处理\n",
    "            if \"user\" in message.content.lower():\n",
    "                print(f\"User: {message.content}\")\n",
    "            else:\n",
    "                print(f\"Assistant: {message.content}\")\n",
    "    else:\n",
    "        print(\"=== 空对话历史（无有效消息） ===\")"
   ]
  },
  {
   "cell_type": "code",
   "execution_count": null,
   "id": "43681f46-8d20-4002-92c3-f121cd52a8a8",
   "metadata": {},
   "outputs": [],
   "source": []
  },
  {
   "attachments": {},
   "cell_type": "markdown",
   "id": "82f58d4f-87a7-4d5d-b962-553b66407812",
   "metadata": {},
   "source": [
    "# Homework: \n",
    "\n",
    "1. 运行和测试第1部分的聊天机器人（ChatBot-Only），并尝试找到一个其无法回答正确的事实性问题。\n",
    "1. 使用联网查询工具（如：Tavily），在第2部分的聊天机器人（ChatBot + Tool）上测试相同问题，并对比生成结果。 "
   ]
  },
  {
   "cell_type": "code",
   "execution_count": null,
   "id": "e0696cb2-16f9-4db0-a395-18e6246cea95",
   "metadata": {},
   "outputs": [],
   "source": []
  }
 ],
 "metadata": {
  "kernelspec": {
   "display_name": "Python 3 (ipykernel)",
   "language": "python",
   "name": "python3"
  },
  "language_info": {
   "codemirror_mode": {
    "name": "ipython",
    "version": 3
   },
   "file_extension": ".py",
   "mimetype": "text/x-python",
   "name": "python",
   "nbconvert_exporter": "python",
   "pygments_lexer": "ipython3",
   "version": "3.10.18"
  }
 },
 "nbformat": 4,
 "nbformat_minor": 5
}
